{
 "cells": [
  {
   "cell_type": "markdown",
   "id": "f150a27f",
   "metadata": {},
   "source": [
    "# LSTM model\n",
    "\n",
    "In this notebook is explained the pipeline for the construction of an **LSTM** based trajectory clasification model. For this, we will need some libraries:\n",
    "\n",
    "- `pickle`: Storing the models histories.\n",
    "- `matplotlib`: Results visualization\n",
    "- `tensorflow`: Modeling\n",
    "- `sklearn`: Preprocessing and spliting the data"
   ]
  },
  {
   "cell_type": "code",
   "execution_count": 1,
   "id": "f6416f2d",
   "metadata": {},
   "outputs": [
    {
     "name": "stderr",
     "output_type": "stream",
     "text": [
      "2022-06-23 20:26:39.337085: W tensorflow/stream_executor/platform/default/dso_loader.cc:64] Could not load dynamic library 'libcudart.so.11.0'; dlerror: libcudart.so.11.0: cannot open shared object file: No such file or directory\n",
      "2022-06-23 20:26:39.337109: I tensorflow/stream_executor/cuda/cudart_stub.cc:29] Ignore above cudart dlerror if you do not have a GPU set up on your machine.\n"
     ]
    }
   ],
   "source": [
    "import pickle\n",
    "\n",
    "import matplotlib.pyplot as plt\n",
    "import numpy as np\n",
    "import tensorflow as tf\n",
    "from sklearn import preprocessing\n",
    "from sklearn.model_selection import train_test_split\n",
    "from tensorflow import keras\n",
    "from tensorflow.keras import layers, callbacks\n",
    "\n",
    "from data_handler import get_selected_data"
   ]
  },
  {
   "cell_type": "markdown",
   "id": "51034fd7",
   "metadata": {},
   "source": [
    "## Loading the data"
   ]
  },
  {
   "cell_type": "code",
   "execution_count": 2,
   "id": "0d686f17",
   "metadata": {},
   "outputs": [
    {
     "name": "stdout",
     "output_type": "stream",
     "text": [
      "100.00%\r"
     ]
    }
   ],
   "source": [
    "data = get_selected_data()"
   ]
  },
  {
   "cell_type": "markdown",
   "id": "a76a07d2",
   "metadata": {},
   "source": [
    "Let's get the trajectory data and their classes"
   ]
  },
  {
   "cell_type": "code",
   "execution_count": 3,
   "id": "24e8c7e3",
   "metadata": {},
   "outputs": [],
   "source": [
    "trajectories = [tmd[\"traj_data\"] for tmd in data]\n",
    "classes = [tmd[\"class\"] for tmd in data]"
   ]
  },
  {
   "cell_type": "markdown",
   "id": "c845916d",
   "metadata": {},
   "source": [
    "## Labeling the classes"
   ]
  },
  {
   "cell_type": "markdown",
   "id": "e6e7ee84",
   "metadata": {},
   "source": [
    "Now we need to label the classes, we'll be using a LabelEncoder for that."
   ]
  },
  {
   "cell_type": "code",
   "execution_count": 4,
   "id": "e6d33231",
   "metadata": {},
   "outputs": [
    {
     "name": "stdout",
     "output_type": "stream",
     "text": [
      "0 bike\n",
      "1 bus\n",
      "2 car\n",
      "3 train\n",
      "4 walk\n"
     ]
    }
   ],
   "source": [
    "le = preprocessing.LabelEncoder()\n",
    "le.fit(classes)\n",
    "for cls, lbl in zip(le.classes_, le.transform(le.classes_)):\n",
    "    print(lbl, cls)\n",
    "labeled_classes = le.transform(classes)"
   ]
  },
  {
   "cell_type": "markdown",
   "id": "e2a8e798",
   "metadata": {},
   "source": [
    "## Splitting training and test"
   ]
  },
  {
   "cell_type": "markdown",
   "id": "e3ded64e",
   "metadata": {},
   "source": [
    "The data will be splitted in 80% training (validation will be extracted from this) and 20% test"
   ]
  },
  {
   "cell_type": "code",
   "execution_count": 5,
   "id": "1489c5c2",
   "metadata": {},
   "outputs": [],
   "source": [
    "X_train, X_test, y_train, y_test = train_test_split(\n",
    "    trajectories,\n",
    "    labeled_classes,\n",
    "    stratify=labeled_classes,\n",
    "    random_state=0,\n",
    "    test_size=0.20,\n",
    ")"
   ]
  },
  {
   "cell_type": "markdown",
   "id": "a77f2463",
   "metadata": {},
   "source": [
    "Some function that will be used in the next cells"
   ]
  },
  {
   "cell_type": "code",
   "execution_count": 6,
   "id": "53cf247b",
   "metadata": {},
   "outputs": [],
   "source": [
    "def clamp_data(trajs, hist_size=75):\n",
    "    \"\"\"Gets the last n points of a trajectory.\"\"\"\n",
    "    return np.array([traj[-hist_size:] for traj in trajs])\n",
    "\n",
    "def plot_model_results(history):\n",
    "    \"\"\"Plots the model history results.\"\"\"\n",
    "    plt.plot(history['accuracy'])\n",
    "    plt.plot(history['val_accuracy'])\n",
    "    plt.title('model accuracy')\n",
    "    plt.ylabel('accuracy')\n",
    "    plt.xlabel('epoch')\n",
    "    plt.legend(['train', 'validation'], loc='upper left')\n",
    "    plt.show()\n",
    "\n",
    "    plt.plot(history['loss'])\n",
    "    plt.plot(history['val_loss'])\n",
    "    plt.title('model loss')\n",
    "    plt.ylabel('loss')\n",
    "    plt.xlabel('epoch')\n",
    "    plt.legend(['train', 'validation'], loc='upper left')\n",
    "    plt.show()\n",
    "\n",
    "def save_history(model, file_name=\"history\"):\n",
    "    \"\"\"Saves the history of a model.\"\"\"\n",
    "    with open(file_name, 'wb') as file_pi:\n",
    "        pickle.dump(history.history, file_pi)\n",
    "    return model\n",
    "\n",
    "def get_model():\n",
    "    \"\"\"Builds a model.\"\"\"\n",
    "    model = keras.Sequential()\n",
    "    model.add(layers.LSTM(128, input_shape=(last_n_points, 3), return_sequences=True))\n",
    "    model.add(layers.LSTM(64, input_shape=(last_n_points, 3), return_sequences=True))\n",
    "    model.add(layers.Bidirectional(layers.LSTM(32, input_shape=(last_n_points, 3)), merge_mode=\"ave\"))\n",
    "    model.add(layers.Dense(15, activation=\"relu\"))\n",
    "    model.add(layers.Dense(5, activation=\"softmax\"))\n",
    "    model.compile(loss=\"sparse_categorical_crossentropy\", optimizer=\"rmsprop\", metrics=[\"accuracy\"])\n",
    "    return model"
   ]
  },
  {
   "cell_type": "markdown",
   "id": "454402ed",
   "metadata": {},
   "source": [
    "## Preparing the data"
   ]
  },
  {
   "cell_type": "markdown",
   "id": "295f54e5",
   "metadata": {},
   "source": [
    "So, the data is prepared to be used in the model:"
   ]
  },
  {
   "cell_type": "code",
   "execution_count": 7,
   "id": "faf060b4",
   "metadata": {},
   "outputs": [],
   "source": [
    "last_n_points = 100\n",
    "X_train = clamp_data(X_train, last_n_points)\n",
    "X_test = clamp_data(X_test, last_n_points)"
   ]
  },
  {
   "cell_type": "markdown",
   "id": "41ad32bb",
   "metadata": {},
   "source": [
    "## Training the model"
   ]
  },
  {
   "cell_type": "markdown",
   "id": "acaf5b10",
   "metadata": {},
   "source": [
    "Let's se how it goes..."
   ]
  },
  {
   "cell_type": "code",
   "execution_count": 8,
   "id": "ad3ac4fb",
   "metadata": {},
   "outputs": [
    {
     "name": "stderr",
     "output_type": "stream",
     "text": [
      "2022-06-23 20:26:46.017935: W tensorflow/stream_executor/platform/default/dso_loader.cc:64] Could not load dynamic library 'libcuda.so.1'; dlerror: libcuda.so.1: cannot open shared object file: No such file or directory\n",
      "2022-06-23 20:26:46.017955: W tensorflow/stream_executor/cuda/cuda_driver.cc:269] failed call to cuInit: UNKNOWN ERROR (303)\n",
      "2022-06-23 20:26:46.017974: I tensorflow/stream_executor/cuda/cuda_diagnostics.cc:156] kernel driver does not appear to be running on this host (jmlap): /proc/driver/nvidia/version does not exist\n",
      "2022-06-23 20:26:46.018192: I tensorflow/core/platform/cpu_feature_guard.cc:193] This TensorFlow binary is optimized with oneAPI Deep Neural Network Library (oneDNN) to use the following CPU instructions in performance-critical operations:  AVX2 FMA\n",
      "To enable them in other operations, rebuild TensorFlow with the appropriate compiler flags.\n"
     ]
    },
    {
     "name": "stdout",
     "output_type": "stream",
     "text": [
      "Model: \"sequential\"\n",
      "_________________________________________________________________\n",
      " Layer (type)                Output Shape              Param #   \n",
      "=================================================================\n",
      " lstm (LSTM)                 (None, 100, 128)          67584     \n",
      "                                                                 \n",
      " lstm_1 (LSTM)               (None, 100, 64)           49408     \n",
      "                                                                 \n",
      " bidirectional (Bidirectiona  (None, 32)               24832     \n",
      " l)                                                              \n",
      "                                                                 \n",
      " dense (Dense)               (None, 15)                495       \n",
      "                                                                 \n",
      " dense_1 (Dense)             (None, 5)                 80        \n",
      "                                                                 \n",
      "=================================================================\n",
      "Total params: 142,399\n",
      "Trainable params: 142,399\n",
      "Non-trainable params: 0\n",
      "_________________________________________________________________\n",
      "Epoch 1/30\n",
      "79/79 [==============================] - ETA: 0s - loss: 1.4215 - accuracy: 0.4281\n",
      "Epoch 1: accuracy improved from -inf to 0.42806, saving model to best_model.h5\n",
      "79/79 [==============================] - 10s 85ms/step - loss: 1.4215 - accuracy: 0.4281 - val_loss: 1.3987 - val_accuracy: 0.4326\n",
      "Epoch 2/30\n",
      "79/79 [==============================] - ETA: 0s - loss: 1.3849 - accuracy: 0.4554\n",
      "Epoch 2: accuracy improved from 0.42806 to 0.45541, saving model to best_model.h5\n",
      "79/79 [==============================] - 6s 74ms/step - loss: 1.3849 - accuracy: 0.4554 - val_loss: 1.3388 - val_accuracy: 0.5024\n",
      "Epoch 3/30\n",
      "79/79 [==============================] - ETA: 0s - loss: 1.3854 - accuracy: 0.4649\n",
      "Epoch 3: accuracy improved from 0.45541 to 0.46492, saving model to best_model.h5\n",
      "79/79 [==============================] - 6s 77ms/step - loss: 1.3854 - accuracy: 0.4649 - val_loss: 1.3367 - val_accuracy: 0.5040\n",
      "Epoch 4/30\n",
      "79/79 [==============================] - ETA: 0s - loss: 1.3753 - accuracy: 0.4625\n",
      "Epoch 4: accuracy did not improve from 0.46492\n",
      "79/79 [==============================] - 6s 73ms/step - loss: 1.3753 - accuracy: 0.4625 - val_loss: 1.3651 - val_accuracy: 0.4596\n",
      "Epoch 5/30\n",
      "79/79 [==============================] - ETA: 0s - loss: 1.3754 - accuracy: 0.4578\n",
      "Epoch 5: accuracy did not improve from 0.46492\n",
      "79/79 [==============================] - 6s 75ms/step - loss: 1.3754 - accuracy: 0.4578 - val_loss: 1.3417 - val_accuracy: 0.5024\n",
      "Epoch 6/30\n",
      "79/79 [==============================] - ETA: 0s - loss: 1.3782 - accuracy: 0.4665\n",
      "Epoch 6: accuracy improved from 0.46492 to 0.46651, saving model to best_model.h5\n",
      "79/79 [==============================] - 6s 75ms/step - loss: 1.3782 - accuracy: 0.4665 - val_loss: 1.3407 - val_accuracy: 0.4675\n",
      "Epoch 7/30\n",
      "79/79 [==============================] - ETA: 0s - loss: 1.3714 - accuracy: 0.4657\n",
      "Epoch 7: accuracy did not improve from 0.46651\n",
      "79/79 [==============================] - 6s 74ms/step - loss: 1.3714 - accuracy: 0.4657 - val_loss: 1.3192 - val_accuracy: 0.5040\n",
      "Epoch 8/30\n",
      "79/79 [==============================] - ETA: 0s - loss: 1.3669 - accuracy: 0.4665\n",
      "Epoch 8: accuracy did not improve from 0.46651\n",
      "79/79 [==============================] - 6s 75ms/step - loss: 1.3669 - accuracy: 0.4665 - val_loss: 1.3234 - val_accuracy: 0.5024\n",
      "Epoch 9/30\n",
      "79/79 [==============================] - ETA: 0s - loss: 1.3657 - accuracy: 0.4633\n",
      "Epoch 9: accuracy did not improve from 0.46651\n",
      "79/79 [==============================] - 6s 76ms/step - loss: 1.3657 - accuracy: 0.4633 - val_loss: 1.3400 - val_accuracy: 0.4929\n",
      "Epoch 10/30\n",
      "79/79 [==============================] - ETA: 0s - loss: 1.3649 - accuracy: 0.4606\n",
      "Epoch 10: accuracy did not improve from 0.46651\n",
      "79/79 [==============================] - 6s 76ms/step - loss: 1.3649 - accuracy: 0.4606 - val_loss: 1.3212 - val_accuracy: 0.5087\n",
      "Epoch 11/30\n",
      "79/79 [==============================] - ETA: 0s - loss: 1.3660 - accuracy: 0.4598\n",
      "Epoch 11: accuracy did not improve from 0.46651\n",
      "79/79 [==============================] - 6s 78ms/step - loss: 1.3660 - accuracy: 0.4598 - val_loss: 1.3325 - val_accuracy: 0.5008\n",
      "Epoch 12/30\n",
      "79/79 [==============================] - ETA: 0s - loss: 1.3676 - accuracy: 0.4629\n",
      "Epoch 12: accuracy did not improve from 0.46651\n",
      "79/79 [==============================] - 6s 74ms/step - loss: 1.3676 - accuracy: 0.4629 - val_loss: 1.3342 - val_accuracy: 0.4992\n",
      "Epoch 13/30\n",
      "79/79 [==============================] - ETA: 0s - loss: 1.3664 - accuracy: 0.4685\n",
      "Epoch 13: accuracy improved from 0.46651 to 0.46849, saving model to best_model.h5\n",
      "79/79 [==============================] - 6s 77ms/step - loss: 1.3664 - accuracy: 0.4685 - val_loss: 1.3224 - val_accuracy: 0.5103\n",
      "Epoch 14/30\n",
      "79/79 [==============================] - ETA: 0s - loss: 1.3618 - accuracy: 0.4645\n",
      "Epoch 14: accuracy did not improve from 0.46849\n",
      "79/79 [==============================] - 6s 74ms/step - loss: 1.3618 - accuracy: 0.4645 - val_loss: 1.3171 - val_accuracy: 0.5024\n",
      "Epoch 15/30\n",
      "79/79 [==============================] - ETA: 0s - loss: 1.3632 - accuracy: 0.4610\n",
      "Epoch 15: accuracy did not improve from 0.46849\n",
      "79/79 [==============================] - 6s 75ms/step - loss: 1.3632 - accuracy: 0.4610 - val_loss: 1.3230 - val_accuracy: 0.5055\n",
      "Epoch 16/30\n",
      "79/79 [==============================] - ETA: 0s - loss: 1.3588 - accuracy: 0.4721\n",
      "Epoch 16: accuracy improved from 0.46849 to 0.47206, saving model to best_model.h5\n",
      "79/79 [==============================] - 6s 78ms/step - loss: 1.3588 - accuracy: 0.4721 - val_loss: 1.3490 - val_accuracy: 0.4770\n",
      "Epoch 17/30\n",
      "79/79 [==============================] - ETA: 0s - loss: 1.3636 - accuracy: 0.4665\n",
      "Epoch 17: accuracy did not improve from 0.47206\n",
      "79/79 [==============================] - 6s 76ms/step - loss: 1.3636 - accuracy: 0.4665 - val_loss: 1.3310 - val_accuracy: 0.4913\n",
      "Epoch 18/30\n",
      "79/79 [==============================] - ETA: 0s - loss: 1.3627 - accuracy: 0.4610\n",
      "Epoch 18: accuracy did not improve from 0.47206\n",
      "79/79 [==============================] - 6s 75ms/step - loss: 1.3627 - accuracy: 0.4610 - val_loss: 1.3387 - val_accuracy: 0.4849\n",
      "Epoch 19/30\n",
      "79/79 [==============================] - ETA: 0s - loss: 1.3614 - accuracy: 0.4685\n",
      "Epoch 19: accuracy did not improve from 0.47206\n",
      "79/79 [==============================] - 6s 75ms/step - loss: 1.3614 - accuracy: 0.4685 - val_loss: 1.3294 - val_accuracy: 0.5040\n",
      "Epoch 20/30\n",
      "79/79 [==============================] - ETA: 0s - loss: 1.3620 - accuracy: 0.4673\n",
      "Epoch 20: accuracy did not improve from 0.47206\n",
      "79/79 [==============================] - 6s 75ms/step - loss: 1.3620 - accuracy: 0.4673 - val_loss: 1.3346 - val_accuracy: 0.4992\n",
      "Epoch 21/30\n",
      "79/79 [==============================] - ETA: 0s - loss: 1.3570 - accuracy: 0.4633\n",
      "Epoch 21: accuracy did not improve from 0.47206\n",
      "79/79 [==============================] - 6s 75ms/step - loss: 1.3570 - accuracy: 0.4633 - val_loss: 1.3309 - val_accuracy: 0.5055\n",
      "Epoch 22/30\n",
      "79/79 [==============================] - ETA: 0s - loss: 1.3614 - accuracy: 0.4677\n",
      "Epoch 22: accuracy did not improve from 0.47206\n",
      "79/79 [==============================] - 6s 75ms/step - loss: 1.3614 - accuracy: 0.4677 - val_loss: 1.3285 - val_accuracy: 0.5040\n",
      "Epoch 23/30\n",
      "79/79 [==============================] - ETA: 0s - loss: 1.3590 - accuracy: 0.4653\n",
      "Epoch 23: accuracy did not improve from 0.47206\n",
      "79/79 [==============================] - 6s 76ms/step - loss: 1.3590 - accuracy: 0.4653 - val_loss: 1.3203 - val_accuracy: 0.5040\n",
      "Epoch 24/30\n",
      "79/79 [==============================] - ETA: 0s - loss: 1.3593 - accuracy: 0.4645\n",
      "Epoch 24: accuracy did not improve from 0.47206\n",
      "79/79 [==============================] - 6s 75ms/step - loss: 1.3593 - accuracy: 0.4645 - val_loss: 1.3191 - val_accuracy: 0.5008\n",
      "Epoch 25/30\n",
      "79/79 [==============================] - ETA: 0s - loss: 1.3512 - accuracy: 0.4721\n",
      "Epoch 25: accuracy did not improve from 0.47206\n",
      "79/79 [==============================] - 6s 75ms/step - loss: 1.3512 - accuracy: 0.4721 - val_loss: 1.3187 - val_accuracy: 0.5040\n",
      "Epoch 26/30\n"
     ]
    },
    {
     "name": "stdout",
     "output_type": "stream",
     "text": [
      "79/79 [==============================] - ETA: 0s - loss: 1.3494 - accuracy: 0.4637\n",
      "Epoch 26: accuracy did not improve from 0.47206\n",
      "79/79 [==============================] - 6s 75ms/step - loss: 1.3494 - accuracy: 0.4637 - val_loss: 1.3138 - val_accuracy: 0.5166\n",
      "Epoch 27/30\n",
      "79/79 [==============================] - ETA: 0s - loss: 1.3507 - accuracy: 0.4713\n",
      "Epoch 27: accuracy did not improve from 0.47206\n",
      "79/79 [==============================] - 6s 76ms/step - loss: 1.3507 - accuracy: 0.4713 - val_loss: 1.3268 - val_accuracy: 0.4945\n",
      "Epoch 28/30\n",
      "79/79 [==============================] - ETA: 0s - loss: 1.3518 - accuracy: 0.4677\n",
      "Epoch 28: accuracy did not improve from 0.47206\n",
      "79/79 [==============================] - 6s 76ms/step - loss: 1.3518 - accuracy: 0.4677 - val_loss: 1.3176 - val_accuracy: 0.5119\n",
      "Epoch 29/30\n",
      "79/79 [==============================] - ETA: 0s - loss: 1.3528 - accuracy: 0.4693\n",
      "Epoch 29: accuracy did not improve from 0.47206\n",
      "79/79 [==============================] - 6s 75ms/step - loss: 1.3528 - accuracy: 0.4693 - val_loss: 1.3116 - val_accuracy: 0.5087\n",
      "Epoch 30/30\n",
      "79/79 [==============================] - ETA: 0s - loss: 1.3530 - accuracy: 0.4732\n",
      "Epoch 30: accuracy improved from 0.47206 to 0.47325, saving model to best_model.h5\n",
      "79/79 [==============================] - 6s 78ms/step - loss: 1.3530 - accuracy: 0.4732 - val_loss: 1.3249 - val_accuracy: 0.5071\n"
     ]
    }
   ],
   "source": [
    "model = get_model()\n",
    "model.summary()\n",
    "es = callbacks.EarlyStopping(monitor=\"loss\", mode=\"min\", verbose=1, patience=5)\n",
    "mc = callbacks.ModelCheckpoint(\n",
    "    \"best_model.h5\", monitor=\"accuracy\", mode=\"max\", verbose=1, save_best_only=True\n",
    ")\n",
    "history = model.fit(X_train, np.array(y_train), epochs=30, callbacks=[mc, es], validation_split=0.2)"
   ]
  },
  {
   "cell_type": "markdown",
   "id": "674fc501",
   "metadata": {},
   "source": [
    "Well, the accuracy is not that good ;(\n",
    "\n",
    "Let's se the plots and evaluate the model with the test set"
   ]
  },
  {
   "cell_type": "markdown",
   "id": "d4ae90d0",
   "metadata": {},
   "source": [
    "## Results"
   ]
  },
  {
   "cell_type": "code",
   "execution_count": 9,
   "id": "385c224c",
   "metadata": {},
   "outputs": [
    {
     "data": {
      "image/png": "[encoded data removed]",
      "text/plain": [
       "<Figure size 432x288 with 1 Axes>"
      ]
     },
     "metadata": {
      "needs_background": "light"
     },
     "output_type": "display_data"
    },
    {
     "data": {
      "image/png": "[encoded data removed]",
      "text/plain": [
       "<Figure size 432x288 with 1 Axes>"
      ]
     },
     "metadata": {
      "needs_background": "light"
     },
     "output_type": "display_data"
    }
   ],
   "source": [
    "save_history(history.history, \"best_model_history\")\n",
    "plot_model_results(history.history)"
   ]
  },
  {
   "cell_type": "markdown",
   "id": "795d1386",
   "metadata": {},
   "source": [
    "As the plots show, the accuracy is very unprobable to reach 50%"
   ]
  },
  {
   "cell_type": "markdown",
   "id": "c3d9acdf",
   "metadata": {},
   "source": [
    "## Evaluation"
   ]
  },
  {
   "cell_type": "code",
   "execution_count": 10,
   "id": "e5c802d5",
   "metadata": {},
   "outputs": [
    {
     "name": "stdout",
     "output_type": "stream",
     "text": [
      "25/25 [==============================] - 1s 24ms/step - loss: 1.3770 - accuracy: 0.4499\n",
      "[1.3769865036010742, 0.4499366283416748]\n"
     ]
    }
   ],
   "source": [
    "print(model.evaluate(X_test, y_test))"
   ]
  },
  {
   "cell_type": "markdown",
   "id": "c9ba4863",
   "metadata": {},
   "source": [
    "## Some predictions"
   ]
  },
  {
   "cell_type": "markdown",
   "id": "9c83f0b1",
   "metadata": {},
   "source": [
    "Let's see some predictions.."
   ]
  },
  {
   "cell_type": "code",
   "execution_count": 11,
   "id": "3257114c",
   "metadata": {},
   "outputs": [],
   "source": [
    "def predict(trajs, model, hist_size=75, cls = None):\n",
    "    if cls is None:\n",
    "        cls = [\"\"] * len(trajs)\n",
    "    for traj, cl in zip(trajs, cls):\n",
    "        X = clamp_data([traj], hist_size)\n",
    "        pred = model.predict(X)\n",
    "        print(pred[-1], np.argmax(pred[-1], axis=0), cl)"
   ]
  },
  {
   "cell_type": "code",
   "execution_count": 12,
   "id": "ed2860c9",
   "metadata": {
    "scrolled": false
   },
   "outputs": [
    {
     "name": "stdout",
     "output_type": "stream",
     "text": [
      "1/1 [==============================] - 1s 737ms/step\n",
      "[0.21146321 0.16739985 0.08904822 0.1484687  0.38361993] 4 4\n",
      "1/1 [==============================] - 0s 18ms/step\n",
      "[0.25185794 0.19596711 0.0832426  0.05633022 0.41260216] 4 0\n",
      "1/1 [==============================] - 0s 17ms/step\n",
      "[0.05081495 0.0672042  0.09200395 0.07959742 0.7103794 ] 4 4\n",
      "1/1 [==============================] - 0s 18ms/step\n",
      "[0.22270137 0.20037863 0.07594009 0.06049509 0.44048488] 4 4\n",
      "1/1 [==============================] - 0s 17ms/step\n",
      "[0.10310944 0.17511383 0.06516486 0.10458138 0.55203056] 4 4\n",
      "1/1 [==============================] - 0s 16ms/step\n",
      "[0.1749779  0.22269438 0.04660655 0.03793234 0.5177888 ] 4 1\n",
      "1/1 [==============================] - 0s 16ms/step\n",
      "[0.17046225 0.41389802 0.16387221 0.10787784 0.14388967] 1 1\n",
      "1/1 [==============================] - 0s 17ms/step\n",
      "[0.19820179 0.3851371  0.16336253 0.10743285 0.14586574] 1 2\n",
      "1/1 [==============================] - 0s 17ms/step\n",
      "[0.23926078 0.35028416 0.14757283 0.11454615 0.1483361 ] 1 2\n",
      "1/1 [==============================] - 0s 17ms/step\n",
      "[0.5398438  0.1548502  0.11118051 0.02559928 0.16852622] 0 0\n",
      "1/1 [==============================] - 0s 17ms/step\n",
      "[0.34673342 0.17965263 0.09338574 0.04146689 0.33876133] 0 0\n",
      "1/1 [==============================] - 0s 19ms/step\n",
      "[0.20658685 0.1850816  0.07680501 0.083772   0.44775465] 4 4\n",
      "1/1 [==============================] - 0s 17ms/step\n",
      "[0.23014157 0.19941449 0.07808134 0.05928515 0.4330774 ] 4 0\n",
      "1/1 [==============================] - 0s 17ms/step\n",
      "[0.10790218 0.16872784 0.05956896 0.04074865 0.6230523 ] 4 4\n",
      "1/1 [==============================] - 0s 16ms/step\n",
      "[0.5386166  0.15798421 0.11339311 0.02666454 0.16334149] 0 0\n"
     ]
    }
   ],
   "source": [
    "predict(X_test[10:25], model, last_n_points, y_test[10:25])"
   ]
  },
  {
   "cell_type": "markdown",
   "id": "81095486",
   "metadata": {},
   "source": [
    "As we can see, generarlly the classes 0 and 4 (bike and walk) where predicted correctly, unlike the clases 1 and 2 (bus and car).\n",
    "\n",
    "Let's reduce the classes to be only bike, car and walk (which are very different kind of trajectories) and redo all the process."
   ]
  },
  {
   "cell_type": "markdown",
   "id": "7b4170b6",
   "metadata": {},
   "source": [
    "## Reselecting the data"
   ]
  },
  {
   "cell_type": "code",
   "execution_count": 13,
   "id": "cc7bc9fc",
   "metadata": {},
   "outputs": [
    {
     "name": "stdout",
     "output_type": "stream",
     "text": [
      "0 bike\n",
      "1 car\n",
      "2 walk\n"
     ]
    }
   ],
   "source": [
    "trajectories = [\n",
    "    tmd[\"traj_data\"]\n",
    "    for tmd in data\n",
    "    if tmd[\"class\"] != \"train\" and tmd[\"class\"] != \"bus\"\n",
    "]\n",
    "classes = [\n",
    "    tmd[\"class\"] for tmd in data if tmd[\"class\"] != \"train\" and tmd[\"class\"] != \"bus\"\n",
    "]\n",
    "\n",
    "le = preprocessing.LabelEncoder()\n",
    "le.fit(classes)\n",
    "for cls, lbl in zip(le.classes_, le.transform(le.classes_)):\n",
    "    print(lbl, cls)\n",
    "labeled_classes = le.transform(classes)"
   ]
  },
  {
   "cell_type": "code",
   "execution_count": 14,
   "id": "d36693db",
   "metadata": {},
   "outputs": [],
   "source": [
    "X_train, X_test, y_train, y_test = train_test_split(\n",
    "    trajectories,\n",
    "    labeled_classes,\n",
    "    stratify=labeled_classes,\n",
    "    random_state=0,\n",
    "    test_size=0.20,\n",
    ")\n",
    "\n",
    "last_n_points = 100\n",
    "X_train = clamp_data(X_train, last_n_points)\n",
    "X_test = clamp_data(X_test, last_n_points)"
   ]
  },
  {
   "cell_type": "code",
   "execution_count": 15,
   "id": "b1b589c8",
   "metadata": {
    "scrolled": false
   },
   "outputs": [
    {
     "name": "stdout",
     "output_type": "stream",
     "text": [
      "Model: \"sequential_1\"\n",
      "_________________________________________________________________\n",
      " Layer (type)                Output Shape              Param #   \n",
      "=================================================================\n",
      " lstm_3 (LSTM)               (None, 100, 128)          67584     \n",
      "                                                                 \n",
      " lstm_4 (LSTM)               (None, 100, 64)           49408     \n",
      "                                                                 \n",
      " bidirectional_1 (Bidirectio  (None, 32)               24832     \n",
      " nal)                                                            \n",
      "                                                                 \n",
      " dense_2 (Dense)             (None, 15)                495       \n",
      "                                                                 \n",
      " dense_3 (Dense)             (None, 5)                 80        \n",
      "                                                                 \n",
      "=================================================================\n",
      "Total params: 142,399\n",
      "Trainable params: 142,399\n",
      "Non-trainable params: 0\n",
      "_________________________________________________________________\n",
      "Epoch 1/30\n",
      "54/54 [==============================] - ETA: 0s - loss: 1.1580 - accuracy: 0.5200\n",
      "Epoch 1: accuracy improved from -inf to 0.51998, saving model to best_model_3_cls.h5\n",
      "54/54 [==============================] - 8s 90ms/step - loss: 1.1580 - accuracy: 0.5200 - val_loss: 1.0131 - val_accuracy: 0.5587\n",
      "Epoch 2/30\n",
      "54/54 [==============================] - ETA: 0s - loss: 0.9373 - accuracy: 0.5893\n",
      "Epoch 2: accuracy improved from 0.51998 to 0.58931, saving model to best_model_3_cls.h5\n",
      "54/54 [==============================] - 4s 76ms/step - loss: 0.9373 - accuracy: 0.5893 - val_loss: 0.9599 - val_accuracy: 0.5728\n",
      "Epoch 3/30\n",
      "54/54 [==============================] - ETA: 0s - loss: 0.9112 - accuracy: 0.5934\n",
      "Epoch 3: accuracy improved from 0.58931 to 0.59342, saving model to best_model_3_cls.h5\n",
      "54/54 [==============================] - 4s 76ms/step - loss: 0.9112 - accuracy: 0.5934 - val_loss: 0.9420 - val_accuracy: 0.5822\n",
      "Epoch 4/30\n",
      "54/54 [==============================] - ETA: 0s - loss: 0.9063 - accuracy: 0.5993\n",
      "Epoch 4: accuracy improved from 0.59342 to 0.59929, saving model to best_model_3_cls.h5\n",
      "54/54 [==============================] - 4s 77ms/step - loss: 0.9063 - accuracy: 0.5993 - val_loss: 0.9612 - val_accuracy: 0.5775\n",
      "Epoch 5/30\n",
      "54/54 [==============================] - ETA: 0s - loss: 0.8986 - accuracy: 0.6022\n",
      "Epoch 5: accuracy improved from 0.59929 to 0.60223, saving model to best_model_3_cls.h5\n",
      "54/54 [==============================] - 4s 76ms/step - loss: 0.8986 - accuracy: 0.6022 - val_loss: 0.9823 - val_accuracy: 0.5094\n",
      "Epoch 6/30\n",
      "54/54 [==============================] - ETA: 0s - loss: 0.9157 - accuracy: 0.5834\n",
      "Epoch 6: accuracy did not improve from 0.60223\n",
      "54/54 [==============================] - 4s 76ms/step - loss: 0.9157 - accuracy: 0.5834 - val_loss: 0.9263 - val_accuracy: 0.5869\n",
      "Epoch 7/30\n",
      "54/54 [==============================] - ETA: 0s - loss: 0.8987 - accuracy: 0.6040\n",
      "Epoch 7: accuracy improved from 0.60223 to 0.60400, saving model to best_model_3_cls.h5\n",
      "54/54 [==============================] - 4s 74ms/step - loss: 0.8987 - accuracy: 0.6040 - val_loss: 0.9644 - val_accuracy: 0.5822\n",
      "Epoch 8/30\n",
      "54/54 [==============================] - ETA: 0s - loss: 0.8967 - accuracy: 0.6046\n",
      "Epoch 8: accuracy improved from 0.60400 to 0.60458, saving model to best_model_3_cls.h5\n",
      "54/54 [==============================] - 4s 76ms/step - loss: 0.8967 - accuracy: 0.6046 - val_loss: 0.9317 - val_accuracy: 0.5892\n",
      "Epoch 9/30\n",
      "54/54 [==============================] - ETA: 0s - loss: 0.8971 - accuracy: 0.5975\n",
      "Epoch 9: accuracy did not improve from 0.60458\n",
      "54/54 [==============================] - 4s 77ms/step - loss: 0.8971 - accuracy: 0.5975 - val_loss: 1.0406 - val_accuracy: 0.4343\n",
      "Epoch 10/30\n",
      "54/54 [==============================] - ETA: 0s - loss: 0.9024 - accuracy: 0.5946\n",
      "Epoch 10: accuracy did not improve from 0.60458\n",
      "54/54 [==============================] - 4s 77ms/step - loss: 0.9024 - accuracy: 0.5946 - val_loss: 0.9328 - val_accuracy: 0.5704\n",
      "Epoch 11/30\n",
      "54/54 [==============================] - ETA: 0s - loss: 0.8899 - accuracy: 0.6016\n",
      "Epoch 11: accuracy did not improve from 0.60458\n",
      "54/54 [==============================] - 4s 77ms/step - loss: 0.8899 - accuracy: 0.6016 - val_loss: 0.9841 - val_accuracy: 0.5845\n",
      "Epoch 12/30\n",
      "54/54 [==============================] - ETA: 0s - loss: 0.8983 - accuracy: 0.6058\n",
      "Epoch 12: accuracy improved from 0.60458 to 0.60576, saving model to best_model_3_cls.h5\n",
      "54/54 [==============================] - 4s 77ms/step - loss: 0.8983 - accuracy: 0.6058 - val_loss: 0.9372 - val_accuracy: 0.5869\n",
      "Epoch 13/30\n",
      "54/54 [==============================] - ETA: 0s - loss: 0.8962 - accuracy: 0.6034\n",
      "Epoch 13: accuracy did not improve from 0.60576\n",
      "54/54 [==============================] - 4s 77ms/step - loss: 0.8962 - accuracy: 0.6034 - val_loss: 0.9550 - val_accuracy: 0.5681\n",
      "Epoch 14/30\n",
      "54/54 [==============================] - ETA: 0s - loss: 0.8944 - accuracy: 0.6052\n",
      "Epoch 14: accuracy did not improve from 0.60576\n",
      "54/54 [==============================] - 4s 74ms/step - loss: 0.8944 - accuracy: 0.6052 - val_loss: 0.9666 - val_accuracy: 0.5610\n",
      "Epoch 15/30\n",
      "54/54 [==============================] - ETA: 0s - loss: 0.8964 - accuracy: 0.6087\n",
      "Epoch 15: accuracy improved from 0.60576 to 0.60870, saving model to best_model_3_cls.h5\n",
      "54/54 [==============================] - 4s 77ms/step - loss: 0.8964 - accuracy: 0.6087 - val_loss: 0.9403 - val_accuracy: 0.5798\n",
      "Epoch 16/30\n",
      "54/54 [==============================] - ETA: 0s - loss: 0.8883 - accuracy: 0.6028\n",
      "Epoch 16: accuracy did not improve from 0.60870\n",
      "54/54 [==============================] - 4s 77ms/step - loss: 0.8883 - accuracy: 0.6028 - val_loss: 0.9619 - val_accuracy: 0.5751\n",
      "Epoch 17/30\n",
      "54/54 [==============================] - ETA: 0s - loss: 0.8903 - accuracy: 0.6052\n",
      "Epoch 17: accuracy did not improve from 0.60870\n",
      "54/54 [==============================] - 4s 75ms/step - loss: 0.8903 - accuracy: 0.6052 - val_loss: 0.9737 - val_accuracy: 0.5775\n",
      "Epoch 18/30\n",
      "54/54 [==============================] - ETA: 0s - loss: 0.8989 - accuracy: 0.6011\n",
      "Epoch 18: accuracy did not improve from 0.60870\n",
      "54/54 [==============================] - 4s 73ms/step - loss: 0.8989 - accuracy: 0.6011 - val_loss: 0.9338 - val_accuracy: 0.5845\n",
      "Epoch 19/30\n",
      "54/54 [==============================] - ETA: 0s - loss: 0.8933 - accuracy: 0.6046\n",
      "Epoch 19: accuracy did not improve from 0.60870\n",
      "54/54 [==============================] - 4s 73ms/step - loss: 0.8933 - accuracy: 0.6046 - val_loss: 0.9449 - val_accuracy: 0.5962\n",
      "Epoch 20/30\n",
      "54/54 [==============================] - ETA: 0s - loss: 0.8905 - accuracy: 0.6093\n",
      "Epoch 20: accuracy improved from 0.60870 to 0.60928, saving model to best_model_3_cls.h5\n",
      "54/54 [==============================] - 4s 73ms/step - loss: 0.8905 - accuracy: 0.6093 - val_loss: 0.9317 - val_accuracy: 0.5704\n",
      "Epoch 21/30\n",
      "54/54 [==============================] - ETA: 0s - loss: 0.8926 - accuracy: 0.6028\n",
      "Epoch 21: accuracy did not improve from 0.60928\n",
      "54/54 [==============================] - 4s 73ms/step - loss: 0.8926 - accuracy: 0.6028 - val_loss: 0.9415 - val_accuracy: 0.5798\n",
      "Epoch 21: early stopping\n"
     ]
    }
   ],
   "source": [
    "model = get_model()\n",
    "model.summary()\n",
    "es = callbacks.EarlyStopping(monitor=\"loss\", mode=\"min\", verbose=1, patience=5)\n",
    "mc = callbacks.ModelCheckpoint(\n",
    "    \"best_model_3_cls.h5\", monitor=\"accuracy\", mode=\"max\", verbose=1, save_best_only=True\n",
    ")\n",
    "history = model.fit(X_train, np.array(y_train), epochs=30, callbacks=[mc, es], validation_split=0.2)"
   ]
  },
  {
   "cell_type": "code",
   "execution_count": 17,
   "id": "d5f66d3b",
   "metadata": {},
   "outputs": [
    {
     "data": {
      "image/png": "[encoded data removed]",
      "text/plain": [
       "<Figure size 432x288 with 1 Axes>"
      ]
     },
     "metadata": {
      "needs_background": "light"
     },
     "output_type": "display_data"
    },
    {
     "data": {
      "image/png": "[encoded data removed]",
      "text/plain": [
       "<Figure size 432x288 with 1 Axes>"
      ]
     },
     "metadata": {
      "needs_background": "light"
     },
     "output_type": "display_data"
    },
    {
     "name": "stdout",
     "output_type": "stream",
     "text": [
      "17/17 [==============================] - 1s 31ms/step - loss: 0.9082 - accuracy: 0.6004\n",
      "[0.908164918422699, 0.600375235080719]\n"
     ]
    }
   ],
   "source": [
    "save_history(history.history, \"best_model_3_cls_history\")\n",
    "plot_model_results(history.history)\n",
    "print(model.evaluate(X_test, y_test))"
   ]
  },
  {
   "cell_type": "markdown",
   "id": "7498a15f",
   "metadata": {},
   "source": [
    "As we can see, the model had better perfomance with this 3 classes."
   ]
  }
 ],
 "metadata": {
  "kernelspec": {
   "display_name": "Python 3 (ipykernel)",
   "language": "python",
   "name": "python3"
  },
  "language_info": {
   "codemirror_mode": {
    "name": "ipython",
    "version": 3
   },
   "file_extension": ".py",
   "mimetype": "text/x-python",
   "name": "python",
   "nbconvert_exporter": "python",
   "pygments_lexer": "ipython3",
   "version": "3.10.5"
  }
 },
 "nbformat": 4,
 "nbformat_minor": 5
}
