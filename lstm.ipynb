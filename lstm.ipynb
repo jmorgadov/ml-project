{
 "cells": [
  {
   "cell_type": "code",
   "execution_count": 1,
   "id": "f6416f2d",
   "metadata": {},
   "outputs": [
    {
     "name": "stderr",
     "output_type": "stream",
     "text": [
      "2022-06-22 23:52:31.737112: W tensorflow/stream_executor/platform/default/dso_loader.cc:64] Could not load dynamic library 'libcudart.so.11.0'; dlerror: libcudart.so.11.0: cannot open shared object file: No such file or directory\n",
      "2022-06-22 23:52:31.737138: I tensorflow/stream_executor/cuda/cudart_stub.cc:29] Ignore above cudart dlerror if you do not have a GPU set up on your machine.\n"
     ]
    }
   ],
   "source": [
    "from tensorflow.keras import models, layers\n",
    "from tensorflow import keras\n",
    "from data_handler import get_selected_data\n",
    "from sklearn.model_selection import train_test_split\n",
    "import tensorflow as tf\n",
    "from sklearn import preprocessing\n",
    "import numpy as np"
   ]
  },
  {
   "cell_type": "code",
   "execution_count": 2,
   "id": "0d686f17",
   "metadata": {},
   "outputs": [
    {
     "name": "stdout",
     "output_type": "stream",
     "text": [
      "100.00%\r"
     ]
    }
   ],
   "source": [
    "data = get_selected_data()"
   ]
  },
  {
   "cell_type": "code",
   "execution_count": 3,
   "id": "24e8c7e3",
   "metadata": {},
   "outputs": [],
   "source": [
    "trajectories = [tmd[\"traj_data\"] for tmd in data]\n",
    "classes = [tmd[\"class\"] for tmd in data]"
   ]
  },
  {
   "cell_type": "code",
   "execution_count": 4,
   "id": "e6d33231",
   "metadata": {},
   "outputs": [
    {
     "name": "stdout",
     "output_type": "stream",
     "text": [
      "0 bike\n",
      "1 bus\n",
      "2 car\n",
      "3 train\n",
      "4 walk\n",
      "\n",
      "All classes labeled: [4 2 2 ... 1 4 1]\n"
     ]
    }
   ],
   "source": [
    "le = preprocessing.LabelEncoder()\n",
    "le.fit(classes)\n",
    "for cls, lbl in zip(le.classes_, le.transform(le.classes_)):\n",
    "    print(lbl, cls)\n",
    "labeled_classes = le.transform(classes)\n",
    "print(\"\\nAll classes labeled:\", labeled_classes)"
   ]
  },
  {
   "cell_type": "code",
   "execution_count": 122,
   "id": "1489c5c2",
   "metadata": {},
   "outputs": [],
   "source": [
    "X_train, X_test, y_train, y_test = train_test_split(\n",
    "    trajectories, labeled_classes, stratify=labeled_classes, random_state=1, test_size=0.25,\n",
    ")\n",
    "\n",
    "X_validation, X_test, y_validation, y_test = train_test_split(\n",
    "    X_test, y_test, stratify=y_test, random_state=1, test_size=0.15,\n",
    ")"
   ]
  },
  {
   "cell_type": "code",
   "execution_count": 147,
   "id": "53cf247b",
   "metadata": {},
   "outputs": [],
   "source": [
    "def prepare_data(trajs, cls, hist_size=75):\n",
    "    X, y = [], []\n",
    "    for traj, cls in zip(trajs, cls):\n",
    "        traj_len = traj.shape[0]\n",
    "        temp_traj = np.array([traj[:,1], traj[:, 0], traj[:, 2]]).T\n",
    "        assert temp_traj.shape == traj.shape, f\"{temp_traj.shape} != {traj.shape}\"\n",
    "        for i in range(0, min(traj_len - hist_size, 100), 20):\n",
    "            t1 = traj[i:i+hist_size]\n",
    "            _y = [0] * le.classes_.shape[0]\n",
    "            _y[cls] = 1\n",
    "            \n",
    "            X.append(t1)\n",
    "            y.append(cls)\n",
    "    return np.array(X), np.array(y)"
   ]
  },
  {
   "cell_type": "code",
   "execution_count": 148,
   "id": "40c39358",
   "metadata": {},
   "outputs": [
    {
     "name": "stdout",
     "output_type": "stream",
     "text": [
      "2957\n"
     ]
    }
   ],
   "source": [
    "print(len(X_train))"
   ]
  },
  {
   "cell_type": "code",
   "execution_count": 149,
   "id": "faf060b4",
   "metadata": {},
   "outputs": [],
   "source": [
    "last_n_points = 100\n",
    "tX, ty = prepare_data(X_train, y_train, last_n_points)\n",
    "vX, vy = prepare_data(X_validation, y_validation, last_n_points)"
   ]
  },
  {
   "cell_type": "code",
   "execution_count": 150,
   "id": "ad3ac4fb",
   "metadata": {},
   "outputs": [
    {
     "name": "stdout",
     "output_type": "stream",
     "text": [
      "Model: \"sequential_64\"\n",
      "_________________________________________________________________\n",
      " Layer (type)                Output Shape              Param #   \n",
      "=================================================================\n",
      " lstm_81 (LSTM)              (None, 100, 30)           4080      \n",
      "                                                                 \n",
      " lstm_82 (LSTM)              (None, 10)                1640      \n",
      "                                                                 \n",
      " dense_142 (Dense)           (None, 30)                330       \n",
      "                                                                 \n",
      " dense_143 (Dense)           (None, 5)                 155       \n",
      "                                                                 \n",
      "=================================================================\n",
      "Total params: 6,205\n",
      "Trainable params: 6,205\n",
      "Non-trainable params: 0\n",
      "_________________________________________________________________\n",
      "Epoch 1/100\n",
      "430/431 [============================>.] - ETA: 0s - loss: 1.4686 - accuracy: 0.3153\n",
      "Epoch 1: accuracy improved from -inf to 0.31532, saving model to best_model_3.h5\n",
      "431/431 [==============================] - 11s 21ms/step - loss: 1.4686 - accuracy: 0.3153\n",
      "Epoch 2/100\n",
      "430/431 [============================>.] - ETA: 0s - loss: 1.4353 - accuracy: 0.3249\n",
      "Epoch 2: accuracy improved from 0.31532 to 0.32482, saving model to best_model_3.h5\n",
      "431/431 [==============================] - 9s 21ms/step - loss: 1.4351 - accuracy: 0.3248\n",
      "Epoch 3/100\n",
      "430/431 [============================>.] - ETA: 0s - loss: 1.4206 - accuracy: 0.3442\n",
      "Epoch 3: accuracy improved from 0.32482 to 0.34411, saving model to best_model_3.h5\n",
      "431/431 [==============================] - 9s 21ms/step - loss: 1.4207 - accuracy: 0.3441\n",
      "Epoch 4/100\n",
      "430/431 [============================>.] - ETA: 0s - loss: 1.4211 - accuracy: 0.3405\n",
      "Epoch 4: accuracy did not improve from 0.34411\n",
      "431/431 [==============================] - 9s 21ms/step - loss: 1.4211 - accuracy: 0.3407\n",
      "Epoch 5/100\n",
      "430/431 [============================>.] - ETA: 0s - loss: 1.4124 - accuracy: 0.3502\n",
      "Epoch 5: accuracy improved from 0.34411 to 0.35013, saving model to best_model_3.h5\n",
      "431/431 [==============================] - 9s 21ms/step - loss: 1.4123 - accuracy: 0.3501\n",
      "Epoch 6/100\n",
      "430/431 [============================>.] - ETA: 0s - loss: 1.4120 - accuracy: 0.3544\n",
      "Epoch 6: accuracy improved from 0.35013 to 0.35427, saving model to best_model_3.h5\n",
      "431/431 [==============================] - 9s 22ms/step - loss: 1.4119 - accuracy: 0.3543\n",
      "Epoch 7/100\n",
      "430/431 [============================>.] - ETA: 0s - loss: 1.4105 - accuracy: 0.3480\n",
      "Epoch 7: accuracy did not improve from 0.35427\n",
      "431/431 [==============================] - 9s 21ms/step - loss: 1.4104 - accuracy: 0.3482\n",
      "Epoch 8/100\n",
      "429/431 [============================>.] - ETA: 0s - loss: 1.4083 - accuracy: 0.3488\n",
      "Epoch 8: accuracy did not improve from 0.35427\n",
      "431/431 [==============================] - 9s 22ms/step - loss: 1.4083 - accuracy: 0.3489\n",
      "Epoch 9/100\n",
      "430/431 [============================>.] - ETA: 0s - loss: 1.4089 - accuracy: 0.3499\n",
      "Epoch 9: accuracy did not improve from 0.35427\n",
      "431/431 [==============================] - 9s 21ms/step - loss: 1.4086 - accuracy: 0.3497\n",
      "Epoch 10/100\n",
      "430/431 [============================>.] - ETA: 0s - loss: 1.4064 - accuracy: 0.3562\n",
      "Epoch 10: accuracy improved from 0.35427 to 0.35644, saving model to best_model_3.h5\n",
      "431/431 [==============================] - 9s 22ms/step - loss: 1.4060 - accuracy: 0.3564\n",
      "Epoch 11/100\n",
      "430/431 [============================>.] - ETA: 0s - loss: 1.4049 - accuracy: 0.3605\n",
      "Epoch 11: accuracy improved from 0.35644 to 0.36043, saving model to best_model_3.h5\n",
      "431/431 [==============================] - 9s 22ms/step - loss: 1.4048 - accuracy: 0.3604\n",
      "Epoch 12/100\n",
      "430/431 [============================>.] - ETA: 0s - loss: 1.4007 - accuracy: 0.3559\n",
      "Epoch 12: accuracy did not improve from 0.36043\n",
      "431/431 [==============================] - 9s 21ms/step - loss: 1.4007 - accuracy: 0.3557\n",
      "Epoch 13/100\n",
      "430/431 [============================>.] - ETA: 0s - loss: 1.4021 - accuracy: 0.3604\n",
      "Epoch 13: accuracy improved from 0.36043 to 0.36065, saving model to best_model_3.h5\n",
      "431/431 [==============================] - 9s 21ms/step - loss: 1.4020 - accuracy: 0.3606\n",
      "Epoch 14/100\n",
      "430/431 [============================>.] - ETA: 0s - loss: 1.4037 - accuracy: 0.3544\n",
      "Epoch 14: accuracy did not improve from 0.36065\n",
      "431/431 [==============================] - 9s 21ms/step - loss: 1.4033 - accuracy: 0.3547\n",
      "Epoch 15/100\n",
      "430/431 [============================>.] - ETA: 0s - loss: 1.4038 - accuracy: 0.3605\n",
      "Epoch 15: accuracy did not improve from 0.36065\n",
      "431/431 [==============================] - 9s 21ms/step - loss: 1.4040 - accuracy: 0.3606\n",
      "Epoch 16/100\n",
      "430/431 [============================>.] - ETA: 0s - loss: 1.4008 - accuracy: 0.3567\n",
      "Epoch 16: accuracy did not improve from 0.36065\n",
      "431/431 [==============================] - 9s 21ms/step - loss: 1.4005 - accuracy: 0.3568\n",
      "Epoch 17/100\n",
      "430/431 [============================>.] - ETA: 0s - loss: 1.3983 - accuracy: 0.3575\n",
      "Epoch 17: accuracy did not improve from 0.36065\n",
      "431/431 [==============================] - 9s 22ms/step - loss: 1.3983 - accuracy: 0.3575\n",
      "Epoch 18/100\n",
      "430/431 [============================>.] - ETA: 0s - loss: 1.4030 - accuracy: 0.3570\n",
      "Epoch 18: accuracy did not improve from 0.36065\n",
      "431/431 [==============================] - 9s 22ms/step - loss: 1.4032 - accuracy: 0.3570\n",
      "Epoch 19/100\n",
      "431/431 [==============================] - ETA: 0s - loss: 1.4001 - accuracy: 0.3575\n",
      "Epoch 19: accuracy did not improve from 0.36065\n",
      "431/431 [==============================] - 10s 22ms/step - loss: 1.4001 - accuracy: 0.3575\n",
      "Epoch 20/100\n",
      "429/431 [============================>.] - ETA: 0s - loss: 1.3997 - accuracy: 0.3613\n",
      "Epoch 20: accuracy improved from 0.36065 to 0.36108, saving model to best_model_3.h5\n",
      "431/431 [==============================] - 9s 22ms/step - loss: 1.3997 - accuracy: 0.3611\n",
      "Epoch 21/100\n",
      "430/431 [============================>.] - ETA: 0s - loss: 1.3968 - accuracy: 0.3624\n",
      "Epoch 21: accuracy improved from 0.36108 to 0.36217, saving model to best_model_3.h5\n",
      "431/431 [==============================] - 9s 22ms/step - loss: 1.3972 - accuracy: 0.3622\n",
      "Epoch 22/100\n",
      "430/431 [============================>.] - ETA: 0s - loss: 1.3964 - accuracy: 0.3659\n",
      "Epoch 22: accuracy improved from 0.36217 to 0.36602, saving model to best_model_3.h5\n",
      "431/431 [==============================] - 9s 22ms/step - loss: 1.3964 - accuracy: 0.3660\n",
      "Epoch 23/100\n",
      "431/431 [==============================] - ETA: 0s - loss: 1.3935 - accuracy: 0.3620\n",
      "Epoch 23: accuracy did not improve from 0.36602\n",
      "431/431 [==============================] - 10s 22ms/step - loss: 1.3935 - accuracy: 0.3620\n",
      "Epoch 24/100\n",
      "430/431 [============================>.] - ETA: 0s - loss: 1.3965 - accuracy: 0.3632\n",
      "Epoch 24: accuracy did not improve from 0.36602\n",
      "431/431 [==============================] - 9s 22ms/step - loss: 1.3964 - accuracy: 0.3633\n",
      "Epoch 25/100\n",
      "430/431 [============================>.] - ETA: 0s - loss: 1.3939 - accuracy: 0.3653\n",
      "Epoch 25: accuracy did not improve from 0.36602\n",
      "431/431 [==============================] - 9s 22ms/step - loss: 1.3937 - accuracy: 0.3655\n",
      "Epoch 26/100\n",
      "430/431 [============================>.] - ETA: 0s - loss: 1.3948 - accuracy: 0.3678\n",
      "Epoch 26: accuracy improved from 0.36602 to 0.36812, saving model to best_model_3.h5\n",
      "431/431 [==============================] - 9s 22ms/step - loss: 1.3946 - accuracy: 0.3681\n",
      "Epoch 27/100\n",
      "430/431 [============================>.] - ETA: 0s - loss: 1.3908 - accuracy: 0.3703\n",
      "Epoch 27: accuracy improved from 0.36812 to 0.37059, saving model to best_model_3.h5\n",
      "431/431 [==============================] - 9s 22ms/step - loss: 1.3904 - accuracy: 0.3706\n",
      "Epoch 28/100\n",
      "430/431 [============================>.] - ETA: 0s - loss: 1.3895 - accuracy: 0.3692\n",
      "Epoch 28: accuracy did not improve from 0.37059\n",
      "431/431 [==============================] - 9s 22ms/step - loss: 1.3895 - accuracy: 0.3691\n",
      "Epoch 29/100\n",
      "431/431 [==============================] - ETA: 0s - loss: 1.3883 - accuracy: 0.3712\n",
      "Epoch 29: accuracy improved from 0.37059 to 0.37117, saving model to best_model_3.h5\n"
     ]
    },
    {
     "name": "stdout",
     "output_type": "stream",
     "text": [
      "431/431 [==============================] - 10s 22ms/step - loss: 1.3883 - accuracy: 0.3712\n",
      "Epoch 30/100\n",
      "430/431 [============================>.] - ETA: 0s - loss: 1.3937 - accuracy: 0.3661\n",
      "Epoch 30: accuracy did not improve from 0.37117\n",
      "431/431 [==============================] - 9s 22ms/step - loss: 1.3935 - accuracy: 0.3663\n",
      "Epoch 31/100\n",
      "430/431 [============================>.] - ETA: 0s - loss: 1.3884 - accuracy: 0.3695\n",
      "Epoch 31: accuracy did not improve from 0.37117\n",
      "431/431 [==============================] - 9s 22ms/step - loss: 1.3881 - accuracy: 0.3695\n",
      "Epoch 32/100\n",
      "429/431 [============================>.] - ETA: 0s - loss: 1.3896 - accuracy: 0.3657\n",
      "Epoch 32: accuracy did not improve from 0.37117\n",
      "431/431 [==============================] - 9s 22ms/step - loss: 1.3902 - accuracy: 0.3654\n",
      "Epoch 33/100\n",
      "430/431 [============================>.] - ETA: 0s - loss: 1.3884 - accuracy: 0.3679\n",
      "Epoch 33: accuracy did not improve from 0.37117\n",
      "431/431 [==============================] - 9s 22ms/step - loss: 1.3886 - accuracy: 0.3680\n",
      "Epoch 34/100\n",
      "430/431 [============================>.] - ETA: 0s - loss: 1.3865 - accuracy: 0.3695\n",
      "Epoch 34: accuracy did not improve from 0.37117\n",
      "431/431 [==============================] - 9s 22ms/step - loss: 1.3864 - accuracy: 0.3694\n",
      "Epoch 35/100\n",
      "431/431 [==============================] - ETA: 0s - loss: 1.3861 - accuracy: 0.3671\n",
      "Epoch 35: accuracy did not improve from 0.37117\n",
      "431/431 [==============================] - 9s 22ms/step - loss: 1.3861 - accuracy: 0.3671\n",
      "Epoch 36/100\n",
      "430/431 [============================>.] - ETA: 0s - loss: 1.3874 - accuracy: 0.3698\n",
      "Epoch 36: accuracy did not improve from 0.37117\n",
      "431/431 [==============================] - 9s 22ms/step - loss: 1.3876 - accuracy: 0.3695\n",
      "Epoch 37/100\n",
      "430/431 [============================>.] - ETA: 0s - loss: 1.3881 - accuracy: 0.3681\n",
      "Epoch 37: accuracy did not improve from 0.37117\n",
      "431/431 [==============================] - 9s 22ms/step - loss: 1.3884 - accuracy: 0.3681\n",
      "Epoch 38/100\n",
      "430/431 [============================>.] - ETA: 0s - loss: 1.3821 - accuracy: 0.3727\n",
      "Epoch 38: accuracy improved from 0.37117 to 0.37254, saving model to best_model_3.h5\n",
      "431/431 [==============================] - 9s 22ms/step - loss: 1.3822 - accuracy: 0.3725\n",
      "Epoch 39/100\n",
      "430/431 [============================>.] - ETA: 0s - loss: 1.3798 - accuracy: 0.3736\n",
      "Epoch 39: accuracy improved from 0.37254 to 0.37363, saving model to best_model_3.h5\n",
      "431/431 [==============================] - 9s 22ms/step - loss: 1.3797 - accuracy: 0.3736\n",
      "Epoch 40/100\n",
      "430/431 [============================>.] - ETA: 0s - loss: 1.3854 - accuracy: 0.3706\n",
      "Epoch 40: accuracy did not improve from 0.37363\n",
      "431/431 [==============================] - 9s 22ms/step - loss: 1.3853 - accuracy: 0.3706\n",
      "Epoch 41/100\n",
      "430/431 [============================>.] - ETA: 0s - loss: 1.3870 - accuracy: 0.3711\n",
      "Epoch 41: accuracy did not improve from 0.37363\n",
      "431/431 [==============================] - 9s 22ms/step - loss: 1.3868 - accuracy: 0.3712\n",
      "Epoch 42/100\n",
      "431/431 [==============================] - ETA: 0s - loss: 1.3871 - accuracy: 0.3685\n",
      "Epoch 42: accuracy did not improve from 0.37363\n",
      "431/431 [==============================] - 10s 22ms/step - loss: 1.3871 - accuracy: 0.3685\n",
      "Epoch 43/100\n",
      "430/431 [============================>.] - ETA: 0s - loss: 1.3836 - accuracy: 0.3730\n",
      "Epoch 43: accuracy did not improve from 0.37363\n",
      "431/431 [==============================] - 9s 22ms/step - loss: 1.3835 - accuracy: 0.3731\n",
      "Epoch 44/100\n",
      "430/431 [============================>.] - ETA: 0s - loss: 1.3831 - accuracy: 0.3670\n",
      "Epoch 44: accuracy did not improve from 0.37363\n",
      "431/431 [==============================] - 9s 22ms/step - loss: 1.3830 - accuracy: 0.3670\n",
      "Epoch 44: early stopping\n"
     ]
    },
    {
     "data": {
      "text/plain": [
       "<keras.callbacks.History at 0x7f14da41e260>"
      ]
     },
     "execution_count": 150,
     "metadata": {},
     "output_type": "execute_result"
    }
   ],
   "source": [
    "model = keras.Sequential()\n",
    "\n",
    "\n",
    "# layers\n",
    "model.add(layers.LSTM(30, input_shape=(last_n_points, 3), return_sequences=True))\n",
    "model.add(layers.LSTM(10, input_shape=(last_n_points, 3)))\n",
    "model.add(layers.Dense(30, activation='relu'))\n",
    "model.add(layers.Dense(5, activation='softmax'))\n",
    "\n",
    "model.compile(loss='sparse_categorical_crossentropy',\n",
    "              optimizer='adam',\n",
    "              metrics=['accuracy'])\n",
    "model.summary()\n",
    "\n",
    "\n",
    "es = keras.callbacks.EarlyStopping(monitor='loss', mode='min', verbose=1, patience=5)\n",
    "mc = keras.callbacks.ModelCheckpoint('best_model_3.h5', monitor='accuracy', mode='max', verbose=1, save_best_only=True)\n",
    "\n",
    "model.fit(tX, ty, epochs=100, callbacks=[mc, es])"
   ]
  },
  {
   "cell_type": "code",
   "execution_count": 64,
   "id": "3257114c",
   "metadata": {},
   "outputs": [],
   "source": [
    "def predict(trajs, model, hist_size=75, cls = None):\n",
    "    if cls is None:\n",
    "        cls = [\"\"] * len(trajs)\n",
    "    for traj, cl in zip(trajs, cls):\n",
    "        X, _ = prepare_data([traj], [0], hist_size)\n",
    "        pred = model.predict(X)\n",
    "        print(pred[-1], np.argmax(pred[-1], axis=0), cl)"
   ]
  },
  {
   "cell_type": "code",
   "execution_count": 152,
   "id": "ed2860c9",
   "metadata": {},
   "outputs": [
    {
     "name": "stdout",
     "output_type": "stream",
     "text": [
      "1/1 [==============================] - 0s 385ms/step\n",
      "[0.14811525 0.32233605 0.14321806 0.0505119  0.33581874] 4 1\n",
      "1/1 [==============================] - 0s 12ms/step\n",
      "[0.14363262 0.38522276 0.11807641 0.07436059 0.27870762] 1 2\n",
      "1/1 [==============================] - 0s 12ms/step\n",
      "[0.1558035  0.31914786 0.13923354 0.04800889 0.33780625] 4 4\n",
      "1/1 [==============================] - 0s 13ms/step\n",
      "[0.33415422 0.28711057 0.0669546  0.01799346 0.2937872 ] 0 1\n",
      "1/1 [==============================] - 0s 12ms/step\n",
      "[0.38513163 0.2629567  0.05506611 0.01436274 0.28248283] 0 1\n",
      "1/1 [==============================] - 0s 12ms/step\n",
      "[0.1428393  0.38351902 0.1199802  0.07324211 0.28041935] 1 0\n",
      "1/1 [==============================] - 0s 13ms/step\n",
      "[0.34848303 0.28174552 0.06290912 0.01661595 0.29024637] 0 0\n",
      "1/1 [==============================] - 0s 12ms/step\n",
      "[0.3852494  0.26292717 0.0550652  0.01434931 0.28240892] 0 0\n",
      "1/1 [==============================] - 0s 14ms/step\n",
      "[0.34587815 0.10565725 0.09494802 0.25300008 0.20051646] 0 0\n",
      "1/1 [==============================] - 0s 14ms/step\n",
      "[0.38490748 0.26309478 0.05511088 0.01436151 0.28252536] 0 2\n"
     ]
    }
   ],
   "source": [
    "predict(X_validation[:10], model, last_n_points, y_validation[:10])"
   ]
  }
 ],
 "metadata": {
  "kernelspec": {
   "display_name": "Python 3 (ipykernel)",
   "language": "python",
   "name": "python3"
  },
  "language_info": {
   "codemirror_mode": {
    "name": "ipython",
    "version": 3
   },
   "file_extension": ".py",
   "mimetype": "text/x-python",
   "name": "python",
   "nbconvert_exporter": "python",
   "pygments_lexer": "ipython3",
   "version": "3.10.5"
  }
 },
 "nbformat": 4,
 "nbformat_minor": 5
}
