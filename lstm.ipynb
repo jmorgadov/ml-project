{
 "cells": [
  {
   "cell_type": "code",
   "execution_count": 1,
   "id": "f6416f2d",
   "metadata": {},
   "outputs": [
    {
     "name": "stderr",
     "output_type": "stream",
     "text": [
      "2022-06-23 09:38:16.498209: W tensorflow/stream_executor/platform/default/dso_loader.cc:64] Could not load dynamic library 'libcudart.so.11.0'; dlerror: libcudart.so.11.0: cannot open shared object file: No such file or directory\n",
      "2022-06-23 09:38:16.498228: I tensorflow/stream_executor/cuda/cudart_stub.cc:29] Ignore above cudart dlerror if you do not have a GPU set up on your machine.\n"
     ]
    }
   ],
   "source": [
    "from tensorflow.keras import models, layers\n",
    "from tensorflow import keras\n",
    "from data_handler import get_selected_data\n",
    "from sklearn.model_selection import train_test_split\n",
    "import tensorflow as tf\n",
    "from sklearn import preprocessing\n",
    "import numpy as np\n",
    "import pickle\n",
    "import matplotlib.pyplot as plt"
   ]
  },
  {
   "cell_type": "code",
   "execution_count": 39,
   "id": "0d686f17",
   "metadata": {},
   "outputs": [
    {
     "name": "stdout",
     "output_type": "stream",
     "text": [
      "100.00%\r"
     ]
    }
   ],
   "source": [
    "data = get_selected_data()"
   ]
  },
  {
   "cell_type": "code",
   "execution_count": 42,
   "id": "24e8c7e3",
   "metadata": {},
   "outputs": [],
   "source": [
    "trajectories = [tmd[\"traj_data\"] for tmd in data if tmd[\"class\"] != \"train\" and tmd[\"class\"] != \"bus\"]\n",
    "classes = [tmd[\"class\"] for tmd in data if tmd[\"class\"] != \"train\" and tmd[\"class\"] != \"bus\"]"
   ]
  },
  {
   "cell_type": "code",
   "execution_count": 43,
   "id": "e6d33231",
   "metadata": {},
   "outputs": [
    {
     "name": "stdout",
     "output_type": "stream",
     "text": [
      "0 bike\n",
      "1 car\n",
      "2 walk\n",
      "\n",
      "All classes labeled: [2 1 1 ... 2 2 2]\n"
     ]
    }
   ],
   "source": [
    "le = preprocessing.LabelEncoder()\n",
    "le.fit(classes)\n",
    "for cls, lbl in zip(le.classes_, le.transform(le.classes_)):\n",
    "    print(lbl, cls)\n",
    "labeled_classes = le.transform(classes)\n",
    "print(\"\\nAll classes labeled:\", labeled_classes)"
   ]
  },
  {
   "cell_type": "code",
   "execution_count": 44,
   "id": "1489c5c2",
   "metadata": {},
   "outputs": [],
   "source": [
    "X_train, X_test, y_train, y_test = train_test_split(\n",
    "    trajectories, labeled_classes, stratify=labeled_classes, random_state=0, test_size=0.20,\n",
    ")\n",
    "\n",
    "X_validation, X_test, y_validation, y_test = train_test_split(\n",
    "    X_test, y_test, stratify=y_test, random_state=0, test_size=0.10,\n",
    ")"
   ]
  },
  {
   "cell_type": "code",
   "execution_count": 45,
   "id": "53cf247b",
   "metadata": {},
   "outputs": [],
   "source": [
    "def prepare_data(trajs, cls, hist_size=75):\n",
    "    X, y = [], []\n",
    "    for traj, cls in zip(trajs, cls):\n",
    "        X.append(traj[-hist_size:])\n",
    "        y.append(cls)\n",
    "    return np.array(X), np.array(y)\n",
    "\n",
    "def plot_model_results(history):\n",
    "    plt.plot(history['accuracy'])\n",
    "    plt.plot(history['val_accuracy'])\n",
    "    plt.title('model accuracy')\n",
    "    plt.ylabel('accuracy')\n",
    "    plt.xlabel('epoch')\n",
    "    plt.legend(['train', 'test'], loc='upper left')\n",
    "    plt.show()\n",
    "\n",
    "    plt.plot(history['loss'])\n",
    "    plt.plot(history['val_loss'])\n",
    "    plt.title('model loss')\n",
    "    plt.ylabel('loss')\n",
    "    plt.xlabel('epoch')\n",
    "    plt.legend(['train', 'test'], loc='upper left')\n",
    "    plt.show()\n",
    "\n",
    "def save_history(model, file_name=\"history\"):\n",
    "    with open(file_name, 'wb') as file_pi:\n",
    "        pickle.dump(history.history, file_pi)"
   ]
  },
  {
   "cell_type": "code",
   "execution_count": 46,
   "id": "faf060b4",
   "metadata": {},
   "outputs": [],
   "source": [
    "last_n_points = 100\n",
    "tX, ty = prepare_data(X_train, y_train, last_n_points)\n",
    "vX, vy = prepare_data(X_validation, y_validation, last_n_points)\n",
    "teX, tey = prepare_data(X_test, y_test, last_n_points)"
   ]
  },
  {
   "cell_type": "code",
   "execution_count": 47,
   "id": "3257114c",
   "metadata": {},
   "outputs": [],
   "source": [
    "def predict(trajs, model, hist_size=75, cls = None):\n",
    "    if cls is None:\n",
    "        cls = [\"\"] * len(trajs)\n",
    "    for traj, cl in zip(trajs, cls):\n",
    "        X, _ = prepare_data([traj], [0], hist_size)\n",
    "        pred = model.predict(X)\n",
    "        print(pred[-1], np.argmax(pred[-1], axis=0), cl)"
   ]
  },
  {
   "cell_type": "code",
   "execution_count": 52,
   "id": "ad3ac4fb",
   "metadata": {},
   "outputs": [
    {
     "name": "stdout",
     "output_type": "stream",
     "text": [
      "Model: \"sequential_14\"\n",
      "_________________________________________________________________\n",
      " Layer (type)                Output Shape              Param #   \n",
      "=================================================================\n",
      " lstm_39 (LSTM)              (None, 100, 128)          67584     \n",
      "                                                                 \n",
      " lstm_40 (LSTM)              (None, 100, 64)           49408     \n",
      "                                                                 \n",
      " bidirectional_10 (Bidirecti  (None, 32)               24832     \n",
      " onal)                                                           \n",
      "                                                                 \n",
      " dense_25 (Dense)            (None, 15)                495       \n",
      "                                                                 \n",
      " dense_26 (Dense)            (None, 3)                 48        \n",
      "                                                                 \n",
      "=================================================================\n",
      "Total params: 142,367\n",
      "Trainable params: 142,367\n",
      "Non-trainable params: 0\n",
      "_________________________________________________________________\n",
      "Epoch 1/30\n",
      "67/67 [==============================] - ETA: 0s - loss: 0.9421 - accuracy: 0.5714\n",
      "Epoch 1: accuracy improved from -inf to 0.57143, saving model to best_model_9.h5\n",
      "67/67 [==============================] - 8s 75ms/step - loss: 0.9421 - accuracy: 0.5714 - val_loss: 0.9266 - val_accuracy: 0.5741\n",
      "Epoch 2/30\n",
      "67/67 [==============================] - ETA: 0s - loss: 0.9099 - accuracy: 0.5935\n",
      "Epoch 2: accuracy improved from 0.57143 to 0.59352, saving model to best_model_9.h5\n",
      "67/67 [==============================] - 4s 66ms/step - loss: 0.9099 - accuracy: 0.5935 - val_loss: 0.8881 - val_accuracy: 0.6200\n",
      "Epoch 3/30\n",
      "67/67 [==============================] - ETA: 0s - loss: 0.9138 - accuracy: 0.5921\n",
      "Epoch 3: accuracy did not improve from 0.59352\n",
      "67/67 [==============================] - 4s 64ms/step - loss: 0.9138 - accuracy: 0.5921 - val_loss: 0.8982 - val_accuracy: 0.5762\n",
      "Epoch 4/30\n",
      "67/67 [==============================] - ETA: 0s - loss: 0.9086 - accuracy: 0.5874\n",
      "Epoch 4: accuracy did not improve from 0.59352\n",
      "67/67 [==============================] - 4s 67ms/step - loss: 0.9086 - accuracy: 0.5874 - val_loss: 0.9150 - val_accuracy: 0.5804\n",
      "Epoch 5/30\n",
      "67/67 [==============================] - ETA: 0s - loss: 0.9105 - accuracy: 0.5879\n",
      "Epoch 5: accuracy did not improve from 0.59352\n",
      "67/67 [==============================] - 4s 66ms/step - loss: 0.9105 - accuracy: 0.5879 - val_loss: 0.9085 - val_accuracy: 0.6075\n",
      "Epoch 6/30\n",
      "67/67 [==============================] - ETA: 0s - loss: 0.9120 - accuracy: 0.5940\n",
      "Epoch 6: accuracy improved from 0.59352 to 0.59398, saving model to best_model_9.h5\n",
      "67/67 [==============================] - 4s 67ms/step - loss: 0.9120 - accuracy: 0.5940 - val_loss: 0.8838 - val_accuracy: 0.6138\n",
      "Epoch 7/30\n",
      "67/67 [==============================] - ETA: 0s - loss: 0.9008 - accuracy: 0.6029\n",
      "Epoch 7: accuracy improved from 0.59398 to 0.60291, saving model to best_model_9.h5\n",
      "67/67 [==============================] - 4s 65ms/step - loss: 0.9008 - accuracy: 0.6029 - val_loss: 0.9261 - val_accuracy: 0.5699\n",
      "Epoch 8/30\n",
      "67/67 [==============================] - ETA: 0s - loss: 0.9027 - accuracy: 0.5973\n",
      "Epoch 8: accuracy did not improve from 0.60291\n",
      "67/67 [==============================] - 4s 66ms/step - loss: 0.9027 - accuracy: 0.5973 - val_loss: 0.9322 - val_accuracy: 0.6075\n",
      "Epoch 9/30\n",
      "67/67 [==============================] - ETA: 0s - loss: 0.9036 - accuracy: 0.5935\n",
      "Epoch 9: accuracy did not improve from 0.60291\n",
      "67/67 [==============================] - 5s 67ms/step - loss: 0.9036 - accuracy: 0.5935 - val_loss: 0.9274 - val_accuracy: 0.5804\n",
      "Epoch 10/30\n",
      "67/67 [==============================] - ETA: 0s - loss: 0.9060 - accuracy: 0.5921\n",
      "Epoch 10: accuracy did not improve from 0.60291\n",
      "67/67 [==============================] - 4s 65ms/step - loss: 0.9060 - accuracy: 0.5921 - val_loss: 0.9011 - val_accuracy: 0.5887\n",
      "Epoch 11/30\n",
      "67/67 [==============================] - ETA: 0s - loss: 0.9050 - accuracy: 0.5982\n",
      "Epoch 11: accuracy did not improve from 0.60291\n",
      "67/67 [==============================] - 4s 64ms/step - loss: 0.9050 - accuracy: 0.5982 - val_loss: 0.8843 - val_accuracy: 0.6159\n",
      "Epoch 12/30\n",
      "67/67 [==============================] - ETA: 0s - loss: 0.9006 - accuracy: 0.6034\n",
      "Epoch 12: accuracy improved from 0.60291 to 0.60338, saving model to best_model_9.h5\n",
      "67/67 [==============================] - 4s 66ms/step - loss: 0.9006 - accuracy: 0.6034 - val_loss: 0.9313 - val_accuracy: 0.6013\n",
      "Epoch 13/30\n",
      "67/67 [==============================] - ETA: 0s - loss: 0.8998 - accuracy: 0.6006\n",
      "Epoch 13: accuracy did not improve from 0.60338\n",
      "67/67 [==============================] - 4s 64ms/step - loss: 0.8998 - accuracy: 0.6006 - val_loss: 0.9087 - val_accuracy: 0.5950\n",
      "Epoch 14/30\n",
      "67/67 [==============================] - ETA: 0s - loss: 0.8979 - accuracy: 0.6024\n",
      "Epoch 14: accuracy did not improve from 0.60338\n",
      "67/67 [==============================] - 4s 64ms/step - loss: 0.8979 - accuracy: 0.6024 - val_loss: 0.9072 - val_accuracy: 0.6096\n",
      "Epoch 15/30\n",
      "67/67 [==============================] - ETA: 0s - loss: 0.8978 - accuracy: 0.6043\n",
      "Epoch 15: accuracy improved from 0.60338 to 0.60432, saving model to best_model_9.h5\n",
      "67/67 [==============================] - 4s 64ms/step - loss: 0.8978 - accuracy: 0.6043 - val_loss: 0.8913 - val_accuracy: 0.6138\n",
      "Epoch 16/30\n",
      "67/67 [==============================] - ETA: 0s - loss: 0.8966 - accuracy: 0.5963\n",
      "Epoch 16: accuracy did not improve from 0.60432\n",
      "67/67 [==============================] - 4s 64ms/step - loss: 0.8966 - accuracy: 0.5963 - val_loss: 0.9062 - val_accuracy: 0.6075\n",
      "Epoch 17/30\n",
      "67/67 [==============================] - ETA: 0s - loss: 0.8994 - accuracy: 0.6010\n",
      "Epoch 17: accuracy did not improve from 0.60432\n",
      "67/67 [==============================] - 4s 64ms/step - loss: 0.8994 - accuracy: 0.6010 - val_loss: 0.9054 - val_accuracy: 0.5992\n",
      "Epoch 18/30\n",
      "67/67 [==============================] - ETA: 0s - loss: 0.9003 - accuracy: 0.5963\n",
      "Epoch 18: accuracy did not improve from 0.60432\n",
      "67/67 [==============================] - 4s 65ms/step - loss: 0.9003 - accuracy: 0.5963 - val_loss: 0.8870 - val_accuracy: 0.6117\n",
      "Epoch 19/30\n",
      "67/67 [==============================] - ETA: 0s - loss: 0.8991 - accuracy: 0.6029\n",
      "Epoch 19: accuracy did not improve from 0.60432\n",
      "67/67 [==============================] - 4s 65ms/step - loss: 0.8991 - accuracy: 0.6029 - val_loss: 0.9042 - val_accuracy: 0.5929\n",
      "Epoch 20/30\n",
      "67/67 [==============================] - ETA: 0s - loss: 0.8953 - accuracy: 0.5968\n",
      "Epoch 20: accuracy did not improve from 0.60432\n",
      "67/67 [==============================] - 4s 65ms/step - loss: 0.8953 - accuracy: 0.5968 - val_loss: 0.8930 - val_accuracy: 0.6180\n",
      "Epoch 21/30\n",
      "67/67 [==============================] - ETA: 0s - loss: 0.8998 - accuracy: 0.6006\n",
      "Epoch 21: accuracy did not improve from 0.60432\n",
      "67/67 [==============================] - 5s 70ms/step - loss: 0.8998 - accuracy: 0.6006 - val_loss: 0.9164 - val_accuracy: 0.5929\n",
      "Epoch 22/30\n",
      "67/67 [==============================] - ETA: 0s - loss: 0.8951 - accuracy: 0.6006\n",
      "Epoch 22: accuracy did not improve from 0.60432\n",
      "67/67 [==============================] - 4s 67ms/step - loss: 0.8951 - accuracy: 0.6006 - val_loss: 0.8845 - val_accuracy: 0.6221\n",
      "Epoch 23/30\n",
      "67/67 [==============================] - ETA: 0s - loss: 0.8983 - accuracy: 0.5968\n",
      "Epoch 23: accuracy did not improve from 0.60432\n",
      "67/67 [==============================] - 4s 65ms/step - loss: 0.8983 - accuracy: 0.5968 - val_loss: 0.8926 - val_accuracy: 0.6138\n",
      "Epoch 24/30\n",
      "67/67 [==============================] - ETA: 0s - loss: 0.8948 - accuracy: 0.6015\n",
      "Epoch 24: accuracy did not improve from 0.60432\n",
      "67/67 [==============================] - 4s 65ms/step - loss: 0.8948 - accuracy: 0.6015 - val_loss: 0.9028 - val_accuracy: 0.6013\n",
      "Epoch 25/30\n",
      "67/67 [==============================] - ETA: 0s - loss: 0.8988 - accuracy: 0.6001\n",
      "Epoch 25: accuracy did not improve from 0.60432\n",
      "67/67 [==============================] - 5s 68ms/step - loss: 0.8988 - accuracy: 0.6001 - val_loss: 0.8885 - val_accuracy: 0.6180\n",
      "Epoch 26/30\n"
     ]
    },
    {
     "name": "stdout",
     "output_type": "stream",
     "text": [
      "67/67 [==============================] - ETA: 0s - loss: 0.8985 - accuracy: 0.5982\n",
      "Epoch 26: accuracy did not improve from 0.60432\n",
      "67/67 [==============================] - 4s 66ms/step - loss: 0.8985 - accuracy: 0.5982 - val_loss: 0.8943 - val_accuracy: 0.6013\n",
      "Epoch 27/30\n",
      "67/67 [==============================] - ETA: 0s - loss: 0.8998 - accuracy: 0.5977\n",
      "Epoch 27: accuracy did not improve from 0.60432\n",
      "67/67 [==============================] - 4s 66ms/step - loss: 0.8998 - accuracy: 0.5977 - val_loss: 0.8849 - val_accuracy: 0.6180\n",
      "Epoch 28/30\n",
      "67/67 [==============================] - ETA: 0s - loss: 0.8968 - accuracy: 0.6015\n",
      "Epoch 28: accuracy did not improve from 0.60432\n",
      "67/67 [==============================] - 4s 66ms/step - loss: 0.8968 - accuracy: 0.6015 - val_loss: 0.8987 - val_accuracy: 0.6075\n",
      "Epoch 29/30\n",
      "67/67 [==============================] - ETA: 0s - loss: 0.8963 - accuracy: 0.5996\n",
      "Epoch 29: accuracy did not improve from 0.60432\n",
      "67/67 [==============================] - 4s 67ms/step - loss: 0.8963 - accuracy: 0.5996 - val_loss: 0.8914 - val_accuracy: 0.6138\n",
      "Epoch 29: early stopping\n"
     ]
    }
   ],
   "source": [
    "model = keras.Sequential()\n",
    "\n",
    "model.add(layers.LSTM(128, input_shape=(last_n_points, 3), return_sequences=True))\n",
    "model.add(layers.LSTM(64, input_shape=(last_n_points, 3), return_sequences=True))\n",
    "model.add(layers.Bidirectional(layers.LSTM(32, input_shape=(last_n_points, 3)), merge_mode='ave'))\n",
    "model.add(layers.Dense(15, activation='relu'))\n",
    "model.add(layers.Dense(3, activation='softmax'))\n",
    "\n",
    "model.compile(loss='sparse_categorical_crossentropy',\n",
    "              optimizer='rmsprop',\n",
    "              metrics=['accuracy'])\n",
    "model.summary()\n",
    "\n",
    "\n",
    "es = keras.callbacks.EarlyStopping(monitor='loss', mode='min', verbose=1, patience=5)\n",
    "mc = keras.callbacks.ModelCheckpoint('best_model_9.h5', monitor='accuracy', mode='max', verbose=1, save_best_only=True)\n",
    "\n",
    "history = model.fit(tX, ty, epochs=30, callbacks=[mc, es], validation_data=(vX, vy))"
   ]
  },
  {
   "cell_type": "code",
   "execution_count": 53,
   "id": "385c224c",
   "metadata": {},
   "outputs": [
    {
     "data": {
      "image/png": "[encoded data removed]",
      "text/plain": [
       "<Figure size 432x288 with 1 Axes>"
      ]
     },
     "metadata": {
      "needs_background": "light"
     },
     "output_type": "display_data"
    },
    {
     "data": {
      "image/png": "[encoded data removed]",
      "text/plain": [
       "<Figure size 432x288 with 1 Axes>"
      ]
     },
     "metadata": {
      "needs_background": "light"
     },
     "output_type": "display_data"
    }
   ],
   "source": [
    "save_history(history.history, \"history_78\")\n",
    "plot_model_results(history.history)"
   ]
  },
  {
   "cell_type": "code",
   "execution_count": 54,
   "id": "ed2860c9",
   "metadata": {
    "scrolled": true
   },
   "outputs": [
    {
     "name": "stdout",
     "output_type": "stream",
     "text": [
      "2/2 [==============================] - 0s 18ms/step - loss: 0.8280 - accuracy: 0.6667\n",
      "[0.8279731273651123, 0.6666666865348816]\n",
      "\n",
      "1/1 [==============================] - 1s 693ms/step\n",
      "[0.333195  0.3266186 0.3401864] 2 0\n",
      "1/1 [==============================] - 0s 15ms/step\n",
      "[0.15967935 0.10519698 0.7351237 ] 2 2\n",
      "1/1 [==============================] - 0s 14ms/step\n",
      "[0.2839562  0.09150782 0.62453604] 2 2\n",
      "1/1 [==============================] - 0s 15ms/step\n",
      "[0.5670773  0.17617087 0.25675187] 0 0\n",
      "1/1 [==============================] - 0s 14ms/step\n",
      "[0.4001557 0.2641862 0.3356581] 0 0\n",
      "1/1 [==============================] - 0s 15ms/step\n",
      "[0.6098781  0.13502957 0.25509232] 0 2\n",
      "1/1 [==============================] - 0s 14ms/step\n",
      "[0.5954869  0.16116312 0.24334994] 0 0\n",
      "1/1 [==============================] - 0s 16ms/step\n",
      "[0.2797637  0.10431297 0.61592335] 2 2\n",
      "1/1 [==============================] - 0s 15ms/step\n",
      "[0.2772837  0.10183292 0.6208834 ] 2 0\n",
      "1/1 [==============================] - 0s 16ms/step\n",
      "[0.30270848 0.10004795 0.5972436 ] 2 0\n",
      "1/1 [==============================] - 0s 16ms/step\n",
      "[0.59551424 0.15979452 0.24469128] 0 1\n",
      "1/1 [==============================] - 0s 15ms/step\n",
      "[0.17212684 0.08736371 0.74050945] 2 1\n",
      "1/1 [==============================] - 0s 16ms/step\n",
      "[0.1582662  0.10541218 0.7363217 ] 2 2\n",
      "1/1 [==============================] - 0s 16ms/step\n",
      "[0.28019613 0.10511311 0.6146908 ] 2 2\n",
      "1/1 [==============================] - 0s 16ms/step\n",
      "[0.32701132 0.11444747 0.5585412 ] 2 2\n",
      "1/1 [==============================] - 0s 17ms/step\n",
      "[0.6255998  0.14338733 0.23101285] 0 0\n",
      "1/1 [==============================] - 0s 15ms/step\n",
      "[0.37077862 0.29137596 0.33784544] 0 1\n",
      "1/1 [==============================] - 0s 15ms/step\n",
      "[0.6029114  0.13634959 0.260739  ] 0 0\n",
      "1/1 [==============================] - 0s 15ms/step\n",
      "[0.2802472  0.08874033 0.6310125 ] 2 2\n",
      "1/1 [==============================] - 0s 17ms/step\n",
      "[0.63724947 0.13721429 0.22553626] 0 0\n"
     ]
    }
   ],
   "source": [
    "print(model.evaluate(teX, tey))\n",
    "print()\n",
    "predict(X_test[:20], model, last_n_points, y_test[:20])"
   ]
  }
 ],
 "metadata": {
  "kernelspec": {
   "display_name": "Python 3 (ipykernel)",
   "language": "python",
   "name": "python3"
  },
  "language_info": {
   "codemirror_mode": {
    "name": "ipython",
    "version": 3
   },
   "file_extension": ".py",
   "mimetype": "text/x-python",
   "name": "python",
   "nbconvert_exporter": "python",
   "pygments_lexer": "ipython3",
   "version": "3.10.5"
  }
 },
 "nbformat": 4,
 "nbformat_minor": 5
}
