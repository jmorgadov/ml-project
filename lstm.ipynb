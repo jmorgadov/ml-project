{
 "cells": [
  {
   "cell_type": "code",
   "execution_count": null,
   "id": "f6416f2d",
   "metadata": {},
   "outputs": [],
   "source": [
    "from tensorflow.keras import models, layers\n",
    "from tensorflow import keras\n",
    "from data_handler import get_selected_data\n",
    "from sklearn.model_selection import train_test_split\n",
    "from sklearn import preprocessing\n",
    "import numpy as np"
   ]
  },
  {
   "cell_type": "code",
   "execution_count": null,
   "id": "0d686f17",
   "metadata": {},
   "outputs": [],
   "source": [
    "data = get_selected_data()"
   ]
  },
  {
   "cell_type": "code",
   "execution_count": null,
   "id": "24e8c7e3",
   "metadata": {},
   "outputs": [],
   "source": [
    "trajectories = [tmd[\"traj_data\"] for tmd in data]\n",
    "classes = [tmd[\"class\"] for tmd in data]"
   ]
  },
  {
   "cell_type": "code",
   "execution_count": null,
   "id": "e6d33231",
   "metadata": {},
   "outputs": [],
   "source": [
    "le = preprocessing.LabelEncoder()\n",
    "le.fit(classes)\n",
    "for cls, lbl in zip(le.classes_, le.transform(le.classes_)):\n",
    "    print(lbl, cls)\n",
    "labeled_classes = le.transform(classes)\n",
    "print(\"\\nAll classes labeled:\", labeled_classes)"
   ]
  },
  {
   "cell_type": "code",
   "execution_count": null,
   "id": "8ba01581",
   "metadata": {},
   "outputs": [],
   "source": [
    "def preprocess_data(trajectories, classes):\n",
    "    max_length = max(t.shape[0] for t in trajectories)\n",
    "    X, y = [], []\n",
    "    for traj, cls in zip(trajectories, classes):\n",
    "        left = max_length - traj.shape[0]\n",
    "        tt = np.zeros((max_length, 3))\n",
    "        tt[left:,:] = traj\n",
    "        yy = np.zeros((max_length,))\n",
    "        yy[left:] = cls\n",
    "        X.append(tt)\n",
    "        y.append(yy)\n",
    "    return X, y"
   ]
  },
  {
   "cell_type": "code",
   "execution_count": null,
   "id": "1489c5c2",
   "metadata": {},
   "outputs": [],
   "source": [
    "X_train, X_test, y_train, y_test = train_test_split(\n",
    "    trajectories, labeled_classes, stratify=labeled_classes, random_state=0, test_size=0.25,\n",
    ")\n",
    "\n",
    "X_validation, X_test = X_test[:200], X_test[200:]\n",
    "y_validation, y_test = y_test[:200], y_test[200:]"
   ]
  },
  {
   "cell_type": "code",
   "execution_count": null,
   "id": "53cf247b",
   "metadata": {},
   "outputs": [],
   "source": [
    "def prepare_data(trajs, cls, hist_size=75):\n",
    "    X, y = [], []\n",
    "    for traj, cls in zip(trajs, cls):\n",
    "        traj_len = traj.shape[0]\n",
    "        for i in range(traj_len - hist_size):\n",
    "            X.append(traj[i:i+hist_size])\n",
    "            _y = [0] * le.classes_.shape[0]\n",
    "            _y[cls] = 1\n",
    "            y.append(_y)\n",
    "    return np.array(X), np.array(y)"
   ]
  },
  {
   "cell_type": "code",
   "execution_count": null,
   "id": "faf060b4",
   "metadata": {},
   "outputs": [],
   "source": [
    "last_n_points = 75\n",
    "tX, ty = prepare_data(X_train[:50], y_train[:50], last_n_points)"
   ]
  },
  {
   "cell_type": "code",
   "execution_count": null,
   "id": "ad3ac4fb",
   "metadata": {},
   "outputs": [],
   "source": [
    "model = keras.Sequential()\n",
    "model.add(layers.LSTM(1, input_shape=(last_n_points, 3)))\n",
    "model.add(layers.Dense(le.classes_.shape[0]))\n",
    "opt = keras.optimizers.Adam(learning_rate=0.01)\n",
    "\n",
    "model.compile(loss='mse', metrics=['accuracy'], optimizer=opt)\n",
    "model.summary()\n",
    "model.fit(tX, ty, epochs=2)"
   ]
  },
  {
   "cell_type": "code",
   "execution_count": null,
   "id": "ed2860c9",
   "metadata": {},
   "outputs": [],
   "source": []
  }
 ],
 "metadata": {
  "kernelspec": {
   "display_name": "Python 3 (ipykernel)",
   "language": "python",
   "name": "python3"
  },
  "language_info": {
   "codemirror_mode": {
    "name": "ipython",
    "version": 3
   },
   "file_extension": ".py",
   "mimetype": "text/x-python",
   "name": "python",
   "nbconvert_exporter": "python",
   "pygments_lexer": "ipython3",
   "version": "3.10.5"
  }
 },
 "nbformat": 4,
 "nbformat_minor": 5
}
