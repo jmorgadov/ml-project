{
 "cells": [
  {
   "cell_type": "markdown",
   "id": "f150a27f",
   "metadata": {},
   "source": [
    "# LSTM model\n",
    "\n",
    "In this notebook is explained the pipeline for the construction of an **LSTM** based trajectory clasification model. For this, we will need some libraries:\n",
    "\n",
    "- `pickle`: Storing the models histories.\n",
    "- `matplotlib`: Results visualization\n",
    "- `tensorflow`: Modeling\n",
    "- `sklearn`: Preprocessing and spliting the data"
   ]
  },
  {
   "cell_type": "code",
   "execution_count": 1,
   "id": "f6416f2d",
   "metadata": {},
   "outputs": [
    {
     "name": "stderr",
     "output_type": "stream",
     "text": [
      "2022-06-24 12:13:08.876722: W tensorflow/stream_executor/platform/default/dso_loader.cc:64] Could not load dynamic library 'libcudart.so.11.0'; dlerror: libcudart.so.11.0: cannot open shared object file: No such file or directory\n",
      "2022-06-24 12:13:08.876746: I tensorflow/stream_executor/cuda/cudart_stub.cc:29] Ignore above cudart dlerror if you do not have a GPU set up on your machine.\n"
     ]
    }
   ],
   "source": [
    "import pickle\n",
    "\n",
    "import matplotlib.pyplot as plt\n",
    "import numpy as np\n",
    "import tensorflow as tf\n",
    "from sklearn import preprocessing\n",
    "from sklearn.model_selection import train_test_split\n",
    "from tensorflow import keras\n",
    "from tensorflow.keras import layers, callbacks\n",
    "\n",
    "from data_handler import get_selected_data"
   ]
  },
  {
   "cell_type": "markdown",
   "id": "51034fd7",
   "metadata": {},
   "source": [
    "## Loading the data"
   ]
  },
  {
   "cell_type": "code",
   "execution_count": 2,
   "id": "0d686f17",
   "metadata": {},
   "outputs": [
    {
     "name": "stdout",
     "output_type": "stream",
     "text": [
      "100.00%\r"
     ]
    }
   ],
   "source": [
    "data = get_selected_data()"
   ]
  },
  {
   "cell_type": "markdown",
   "id": "a76a07d2",
   "metadata": {},
   "source": [
    "Let's get the trajectory data and their classes"
   ]
  },
  {
   "cell_type": "code",
   "execution_count": 3,
   "id": "24e8c7e3",
   "metadata": {},
   "outputs": [],
   "source": [
    "trajectories = [tmd[\"traj_data\"] for tmd in data]\n",
    "classes = [tmd[\"class\"] for tmd in data]"
   ]
  },
  {
   "cell_type": "markdown",
   "id": "c845916d",
   "metadata": {},
   "source": [
    "## Labeling the classes"
   ]
  },
  {
   "cell_type": "markdown",
   "id": "e6e7ee84",
   "metadata": {},
   "source": [
    "Now we need to label the classes, we'll be using a LabelEncoder for that."
   ]
  },
  {
   "cell_type": "code",
   "execution_count": 4,
   "id": "e6d33231",
   "metadata": {},
   "outputs": [
    {
     "name": "stdout",
     "output_type": "stream",
     "text": [
      "0 bike\n",
      "1 bus\n",
      "2 car\n",
      "3 train\n",
      "4 walk\n"
     ]
    }
   ],
   "source": [
    "le = preprocessing.LabelEncoder()\n",
    "le.fit(classes)\n",
    "for cls, lbl in zip(le.classes_, le.transform(le.classes_)):\n",
    "    print(lbl, cls)\n",
    "labeled_classes = le.transform(classes)"
   ]
  },
  {
   "cell_type": "markdown",
   "id": "e2a8e798",
   "metadata": {},
   "source": [
    "## Splitting training and test"
   ]
  },
  {
   "cell_type": "markdown",
   "id": "e3ded64e",
   "metadata": {},
   "source": [
    "The data will be splitted in 80% training (validation will be extracted from this) and 20% test"
   ]
  },
  {
   "cell_type": "code",
   "execution_count": 5,
   "id": "1489c5c2",
   "metadata": {},
   "outputs": [],
   "source": [
    "X_train, X_test, y_train, y_test = train_test_split(\n",
    "    trajectories,\n",
    "    labeled_classes,\n",
    "    stratify=labeled_classes,\n",
    "    random_state=0,\n",
    "    test_size=0.20,\n",
    ")"
   ]
  },
  {
   "cell_type": "markdown",
   "id": "a77f2463",
   "metadata": {},
   "source": [
    "Some function that will be used in the next cells"
   ]
  },
  {
   "cell_type": "code",
   "execution_count": 6,
   "id": "53cf247b",
   "metadata": {},
   "outputs": [],
   "source": [
    "def clamp_data(trajs, hist_size=75):\n",
    "    \"\"\"Gets the last n points of a trajectory.\"\"\"\n",
    "    return np.array([traj[-hist_size:] for traj in trajs])\n",
    "\n",
    "def plot_model_results(history):\n",
    "    \"\"\"Plots the model history results.\"\"\"\n",
    "    plt.plot(history['accuracy'])\n",
    "    plt.plot(history['val_accuracy'])\n",
    "    plt.title('model accuracy')\n",
    "    plt.ylabel('accuracy')\n",
    "    plt.xlabel('epoch')\n",
    "    plt.legend(['train', 'validation'], loc='upper left')\n",
    "    plt.show()\n",
    "\n",
    "    plt.plot(history['loss'])\n",
    "    plt.plot(history['val_loss'])\n",
    "    plt.title('model loss')\n",
    "    plt.ylabel('loss')\n",
    "    plt.xlabel('epoch')\n",
    "    plt.legend(['train', 'validation'], loc='upper left')\n",
    "    plt.show()\n",
    "\n",
    "def save_history(model, file_name=\"history\"):\n",
    "    \"\"\"Saves the history of a model.\"\"\"\n",
    "    with open(file_name, 'wb') as file_pi:\n",
    "        pickle.dump(history.history, file_pi)\n",
    "    return model\n",
    "\n",
    "def get_model(output_count=5):\n",
    "    \"\"\"Builds a model.\"\"\"\n",
    "    model = keras.Sequential()\n",
    "    model.add(layers.LSTM(128, input_shape=(last_n_points, 3), return_sequences=True))\n",
    "    model.add(layers.LSTM(64, input_shape=(last_n_points, 3), return_sequences=True))\n",
    "    model.add(layers.Bidirectional(layers.LSTM(32, input_shape=(last_n_points, 3)), merge_mode=\"ave\"))\n",
    "    model.add(layers.Dense(15, activation=\"relu\"))\n",
    "    model.add(layers.Dense(output_count, activation=\"softmax\"))\n",
    "    model.compile(loss=\"sparse_categorical_crossentropy\", optimizer=\"rmsprop\", metrics=[\"accuracy\"])\n",
    "    return model"
   ]
  },
  {
   "cell_type": "markdown",
   "id": "454402ed",
   "metadata": {},
   "source": [
    "## Preparing the data"
   ]
  },
  {
   "cell_type": "markdown",
   "id": "295f54e5",
   "metadata": {},
   "source": [
    "So, the data is prepared to be used in the model:"
   ]
  },
  {
   "cell_type": "code",
   "execution_count": 7,
   "id": "faf060b4",
   "metadata": {},
   "outputs": [],
   "source": [
    "last_n_points = 100\n",
    "X_train = clamp_data(X_train, last_n_points)\n",
    "X_test = clamp_data(X_test, last_n_points)"
   ]
  },
  {
   "cell_type": "markdown",
   "id": "41ad32bb",
   "metadata": {},
   "source": [
    "## Training the model"
   ]
  },
  {
   "cell_type": "markdown",
   "id": "acaf5b10",
   "metadata": {},
   "source": [
    "Let's se how it goes..."
   ]
  },
  {
   "cell_type": "code",
   "execution_count": 8,
   "id": "ad3ac4fb",
   "metadata": {},
   "outputs": [
    {
     "name": "stderr",
     "output_type": "stream",
     "text": [
      "2022-06-24 12:13:16.995518: W tensorflow/stream_executor/platform/default/dso_loader.cc:64] Could not load dynamic library 'libcuda.so.1'; dlerror: libcuda.so.1: cannot open shared object file: No such file or directory\n",
      "2022-06-24 12:13:16.995536: W tensorflow/stream_executor/cuda/cuda_driver.cc:269] failed call to cuInit: UNKNOWN ERROR (303)\n",
      "2022-06-24 12:13:16.995554: I tensorflow/stream_executor/cuda/cuda_diagnostics.cc:156] kernel driver does not appear to be running on this host (jmlap): /proc/driver/nvidia/version does not exist\n",
      "2022-06-24 12:13:16.995848: I tensorflow/core/platform/cpu_feature_guard.cc:193] This TensorFlow binary is optimized with oneAPI Deep Neural Network Library (oneDNN) to use the following CPU instructions in performance-critical operations:  AVX2 FMA\n",
      "To enable them in other operations, rebuild TensorFlow with the appropriate compiler flags.\n"
     ]
    },
    {
     "name": "stdout",
     "output_type": "stream",
     "text": [
      "Model: \"sequential\"\n",
      "_________________________________________________________________\n",
      " Layer (type)                Output Shape              Param #   \n",
      "=================================================================\n",
      " lstm (LSTM)                 (None, 100, 128)          67584     \n",
      "                                                                 \n",
      " lstm_1 (LSTM)               (None, 100, 64)           49408     \n",
      "                                                                 \n",
      " bidirectional (Bidirectiona  (None, 32)               24832     \n",
      " l)                                                              \n",
      "                                                                 \n",
      " dense (Dense)               (None, 15)                495       \n",
      "                                                                 \n",
      " dense_1 (Dense)             (None, 5)                 80        \n",
      "                                                                 \n",
      "=================================================================\n",
      "Total params: 142,399\n",
      "Trainable params: 142,399\n",
      "Non-trainable params: 0\n",
      "_________________________________________________________________\n",
      "Epoch 1/30\n",
      "79/79 [==============================] - ETA: 0s - loss: 1.4560 - accuracy: 0.4051\n",
      "Epoch 1: accuracy improved from -inf to 0.40507, saving model to best_model.h5\n",
      "79/79 [==============================] - 10s 79ms/step - loss: 1.4560 - accuracy: 0.4051 - val_loss: 1.3900 - val_accuracy: 0.4437\n",
      "Epoch 2/30\n",
      "79/79 [==============================] - ETA: 0s - loss: 1.3857 - accuracy: 0.4538\n",
      "Epoch 2: accuracy improved from 0.40507 to 0.45382, saving model to best_model.h5\n",
      "79/79 [==============================] - 6s 73ms/step - loss: 1.3857 - accuracy: 0.4538 - val_loss: 1.3462 - val_accuracy: 0.5040\n",
      "Epoch 3/30\n",
      "79/79 [==============================] - ETA: 0s - loss: 1.3768 - accuracy: 0.4598\n",
      "Epoch 3: accuracy improved from 0.45382 to 0.45977, saving model to best_model.h5\n",
      "79/79 [==============================] - 6s 75ms/step - loss: 1.3768 - accuracy: 0.4598 - val_loss: 1.3365 - val_accuracy: 0.4881\n",
      "Epoch 4/30\n",
      "79/79 [==============================] - ETA: 0s - loss: 1.3787 - accuracy: 0.4538\n",
      "Epoch 4: accuracy did not improve from 0.45977\n",
      "79/79 [==============================] - 6s 74ms/step - loss: 1.3787 - accuracy: 0.4538 - val_loss: 1.3297 - val_accuracy: 0.5040\n",
      "Epoch 5/30\n",
      "79/79 [==============================] - ETA: 0s - loss: 1.3727 - accuracy: 0.4618\n",
      "Epoch 5: accuracy improved from 0.45977 to 0.46175, saving model to best_model.h5\n",
      "79/79 [==============================] - 6s 74ms/step - loss: 1.3727 - accuracy: 0.4618 - val_loss: 1.3357 - val_accuracy: 0.5040\n",
      "Epoch 6/30\n",
      "79/79 [==============================] - ETA: 0s - loss: 1.3753 - accuracy: 0.4633\n",
      "Epoch 6: accuracy improved from 0.46175 to 0.46334, saving model to best_model.h5\n",
      "79/79 [==============================] - 6s 73ms/step - loss: 1.3753 - accuracy: 0.4633 - val_loss: 1.3418 - val_accuracy: 0.4976\n",
      "Epoch 7/30\n",
      "79/79 [==============================] - ETA: 0s - loss: 1.3722 - accuracy: 0.4618\n",
      "Epoch 7: accuracy did not improve from 0.46334\n",
      "79/79 [==============================] - 6s 74ms/step - loss: 1.3722 - accuracy: 0.4618 - val_loss: 1.3344 - val_accuracy: 0.5024\n",
      "Epoch 8/30\n",
      "79/79 [==============================] - ETA: 0s - loss: 1.3725 - accuracy: 0.4641\n",
      "Epoch 8: accuracy improved from 0.46334 to 0.46413, saving model to best_model.h5\n",
      "79/79 [==============================] - 6s 73ms/step - loss: 1.3725 - accuracy: 0.4641 - val_loss: 1.3461 - val_accuracy: 0.4960\n",
      "Epoch 9/30\n",
      "79/79 [==============================] - ETA: 0s - loss: 1.3749 - accuracy: 0.4598\n",
      "Epoch 9: accuracy did not improve from 0.46413\n",
      "79/79 [==============================] - 6s 74ms/step - loss: 1.3749 - accuracy: 0.4598 - val_loss: 1.3380 - val_accuracy: 0.4945\n",
      "Epoch 10/30\n",
      "79/79 [==============================] - ETA: 0s - loss: 1.3675 - accuracy: 0.4618\n",
      "Epoch 10: accuracy did not improve from 0.46413\n",
      "79/79 [==============================] - 6s 74ms/step - loss: 1.3675 - accuracy: 0.4618 - val_loss: 1.3993 - val_accuracy: 0.4326\n",
      "Epoch 11/30\n",
      "79/79 [==============================] - ETA: 0s - loss: 1.3723 - accuracy: 0.4578\n",
      "Epoch 11: accuracy did not improve from 0.46413\n",
      "79/79 [==============================] - 6s 74ms/step - loss: 1.3723 - accuracy: 0.4578 - val_loss: 1.3474 - val_accuracy: 0.5055\n",
      "Epoch 12/30\n",
      "79/79 [==============================] - ETA: 0s - loss: 1.3700 - accuracy: 0.4677\n",
      "Epoch 12: accuracy improved from 0.46413 to 0.46770, saving model to best_model.h5\n",
      "79/79 [==============================] - 6s 73ms/step - loss: 1.3700 - accuracy: 0.4677 - val_loss: 1.3322 - val_accuracy: 0.5040\n",
      "Epoch 13/30\n",
      "79/79 [==============================] - ETA: 0s - loss: 1.3650 - accuracy: 0.4677\n",
      "Epoch 13: accuracy did not improve from 0.46770\n",
      "79/79 [==============================] - 6s 76ms/step - loss: 1.3650 - accuracy: 0.4677 - val_loss: 1.3296 - val_accuracy: 0.5040\n",
      "Epoch 14/30\n",
      "79/79 [==============================] - ETA: 0s - loss: 1.3625 - accuracy: 0.4661\n",
      "Epoch 14: accuracy did not improve from 0.46770\n",
      "79/79 [==============================] - 6s 74ms/step - loss: 1.3625 - accuracy: 0.4661 - val_loss: 1.3265 - val_accuracy: 0.5024\n",
      "Epoch 15/30\n",
      "79/79 [==============================] - ETA: 0s - loss: 1.3668 - accuracy: 0.4689\n",
      "Epoch 15: accuracy improved from 0.46770 to 0.46889, saving model to best_model.h5\n",
      "79/79 [==============================] - 6s 75ms/step - loss: 1.3668 - accuracy: 0.4689 - val_loss: 1.3347 - val_accuracy: 0.5055\n",
      "Epoch 16/30\n",
      "79/79 [==============================] - ETA: 0s - loss: 1.3648 - accuracy: 0.4610\n",
      "Epoch 16: accuracy did not improve from 0.46889\n",
      "79/79 [==============================] - 6s 73ms/step - loss: 1.3648 - accuracy: 0.4610 - val_loss: 1.3335 - val_accuracy: 0.5008\n",
      "Epoch 17/30\n",
      "79/79 [==============================] - ETA: 0s - loss: 1.3619 - accuracy: 0.4717\n",
      "Epoch 17: accuracy improved from 0.46889 to 0.47166, saving model to best_model.h5\n",
      "79/79 [==============================] - 6s 73ms/step - loss: 1.3619 - accuracy: 0.4717 - val_loss: 1.3481 - val_accuracy: 0.4802\n",
      "Epoch 18/30\n",
      "79/79 [==============================] - ETA: 0s - loss: 1.3663 - accuracy: 0.4645\n",
      "Epoch 18: accuracy did not improve from 0.47166\n",
      "79/79 [==============================] - 6s 73ms/step - loss: 1.3663 - accuracy: 0.4645 - val_loss: 1.3237 - val_accuracy: 0.5103\n",
      "Epoch 19/30\n",
      "79/79 [==============================] - ETA: 0s - loss: 1.3615 - accuracy: 0.4685\n",
      "Epoch 19: accuracy did not improve from 0.47166\n",
      "79/79 [==============================] - 6s 74ms/step - loss: 1.3615 - accuracy: 0.4685 - val_loss: 1.3628 - val_accuracy: 0.4770\n",
      "Epoch 20/30\n",
      "79/79 [==============================] - ETA: 0s - loss: 1.3655 - accuracy: 0.4653\n",
      "Epoch 20: accuracy did not improve from 0.47166\n",
      "79/79 [==============================] - 6s 76ms/step - loss: 1.3655 - accuracy: 0.4653 - val_loss: 1.3493 - val_accuracy: 0.4707\n",
      "Epoch 21/30\n",
      "79/79 [==============================] - ETA: 0s - loss: 1.3602 - accuracy: 0.4677\n",
      "Epoch 21: accuracy did not improve from 0.47166\n",
      "79/79 [==============================] - 6s 75ms/step - loss: 1.3602 - accuracy: 0.4677 - val_loss: 1.3245 - val_accuracy: 0.5071\n",
      "Epoch 22/30\n",
      "79/79 [==============================] - ETA: 0s - loss: 1.3599 - accuracy: 0.4701\n",
      "Epoch 22: accuracy did not improve from 0.47166\n",
      "79/79 [==============================] - 6s 74ms/step - loss: 1.3599 - accuracy: 0.4701 - val_loss: 1.3273 - val_accuracy: 0.5024\n",
      "Epoch 23/30\n",
      "79/79 [==============================] - ETA: 0s - loss: 1.3622 - accuracy: 0.4637\n",
      "Epoch 23: accuracy did not improve from 0.47166\n",
      "79/79 [==============================] - 6s 75ms/step - loss: 1.3622 - accuracy: 0.4637 - val_loss: 1.3283 - val_accuracy: 0.5008\n",
      "Epoch 24/30\n",
      "79/79 [==============================] - ETA: 0s - loss: 1.3591 - accuracy: 0.4681\n",
      "Epoch 24: accuracy did not improve from 0.47166\n",
      "79/79 [==============================] - 6s 76ms/step - loss: 1.3591 - accuracy: 0.4681 - val_loss: 1.3188 - val_accuracy: 0.5071\n",
      "Epoch 25/30\n",
      "79/79 [==============================] - ETA: 0s - loss: 1.3537 - accuracy: 0.4693\n",
      "Epoch 25: accuracy did not improve from 0.47166\n",
      "79/79 [==============================] - 6s 75ms/step - loss: 1.3537 - accuracy: 0.4693 - val_loss: 1.3368 - val_accuracy: 0.5008\n"
     ]
    },
    {
     "name": "stdout",
     "output_type": "stream",
     "text": [
      "Epoch 26/30\n",
      "79/79 [==============================] - ETA: 0s - loss: 1.3616 - accuracy: 0.4645\n",
      "Epoch 26: accuracy did not improve from 0.47166\n",
      "79/79 [==============================] - 6s 74ms/step - loss: 1.3616 - accuracy: 0.4645 - val_loss: 1.3377 - val_accuracy: 0.5024\n",
      "Epoch 27/30\n",
      "79/79 [==============================] - ETA: 0s - loss: 1.3567 - accuracy: 0.4697\n",
      "Epoch 27: accuracy did not improve from 0.47166\n",
      "79/79 [==============================] - 6s 76ms/step - loss: 1.3567 - accuracy: 0.4697 - val_loss: 1.3288 - val_accuracy: 0.5024\n",
      "Epoch 28/30\n",
      "79/79 [==============================] - ETA: 0s - loss: 1.3589 - accuracy: 0.4657\n",
      "Epoch 28: accuracy did not improve from 0.47166\n",
      "79/79 [==============================] - 6s 75ms/step - loss: 1.3589 - accuracy: 0.4657 - val_loss: 1.3127 - val_accuracy: 0.5087\n",
      "Epoch 29/30\n",
      "79/79 [==============================] - ETA: 0s - loss: 1.3572 - accuracy: 0.4614\n",
      "Epoch 29: accuracy did not improve from 0.47166\n",
      "79/79 [==============================] - 6s 75ms/step - loss: 1.3572 - accuracy: 0.4614 - val_loss: 1.3173 - val_accuracy: 0.5040\n",
      "Epoch 30/30\n",
      "79/79 [==============================] - ETA: 0s - loss: 1.3514 - accuracy: 0.4673\n",
      "Epoch 30: accuracy did not improve from 0.47166\n",
      "79/79 [==============================] - 6s 74ms/step - loss: 1.3514 - accuracy: 0.4673 - val_loss: 1.3275 - val_accuracy: 0.5040\n"
     ]
    }
   ],
   "source": [
    "model = get_model()\n",
    "model.summary()\n",
    "es = callbacks.EarlyStopping(monitor=\"loss\", mode=\"min\", verbose=1, patience=5)\n",
    "mc = callbacks.ModelCheckpoint(\n",
    "    \"best_model.h5\", monitor=\"accuracy\", mode=\"max\", verbose=1, save_best_only=True\n",
    ")\n",
    "history = model.fit(X_train, np.array(y_train), epochs=30, callbacks=[mc, es], validation_split=0.2)"
   ]
  },
  {
   "cell_type": "markdown",
   "id": "674fc501",
   "metadata": {},
   "source": [
    "Well, the accuracy is not that good ;(\n",
    "\n",
    "Let's se the plots and evaluate the model with the test set"
   ]
  },
  {
   "cell_type": "markdown",
   "id": "d4ae90d0",
   "metadata": {},
   "source": [
    "## Results"
   ]
  },
  {
   "cell_type": "code",
   "execution_count": 9,
   "id": "385c224c",
   "metadata": {},
   "outputs": [
    {
     "data": {
      "image/png": "[encoded data removed]",
      "text/plain": [
       "<Figure size 432x288 with 1 Axes>"
      ]
     },
     "metadata": {
      "needs_background": "light"
     },
     "output_type": "display_data"
    },
    {
     "data": {
      "image/png": "[encoded data removed]",
      "text/plain": [
       "<Figure size 432x288 with 1 Axes>"
      ]
     },
     "metadata": {
      "needs_background": "light"
     },
     "output_type": "display_data"
    }
   ],
   "source": [
    "save_history(history.history, \"best_model_history\")\n",
    "plot_model_results(history.history)"
   ]
  },
  {
   "cell_type": "markdown",
   "id": "795d1386",
   "metadata": {},
   "source": [
    "As the plots show, the accuracy is very unprobable to reach 50%"
   ]
  },
  {
   "cell_type": "markdown",
   "id": "c3d9acdf",
   "metadata": {},
   "source": [
    "## Evaluation"
   ]
  },
  {
   "cell_type": "code",
   "execution_count": 10,
   "id": "e5c802d5",
   "metadata": {},
   "outputs": [
    {
     "name": "stdout",
     "output_type": "stream",
     "text": [
      "25/25 [==============================] - 1s 23ms/step - loss: 1.3784 - accuracy: 0.4512\n",
      "[1.378390908241272, 0.4512040615081787]\n"
     ]
    }
   ],
   "source": [
    "print(model.evaluate(X_test, y_test))"
   ]
  },
  {
   "cell_type": "markdown",
   "id": "c9ba4863",
   "metadata": {},
   "source": [
    "## Some predictions"
   ]
  },
  {
   "cell_type": "markdown",
   "id": "9c83f0b1",
   "metadata": {},
   "source": [
    "Let's see some predictions.."
   ]
  },
  {
   "cell_type": "code",
   "execution_count": 11,
   "id": "3257114c",
   "metadata": {},
   "outputs": [],
   "source": [
    "def predict(trajs, model, hist_size=75, cls = None):\n",
    "    if cls is None:\n",
    "        cls = [\"\"] * len(trajs)\n",
    "    for traj, cl in zip(trajs, cls):\n",
    "        X = clamp_data([traj], hist_size)\n",
    "        pred = model.predict(X)\n",
    "        print(pred[-1], np.argmax(pred[-1], axis=0), cl)"
   ]
  },
  {
   "cell_type": "code",
   "execution_count": 12,
   "id": "ed2860c9",
   "metadata": {
    "scrolled": false
   },
   "outputs": [
    {
     "name": "stdout",
     "output_type": "stream",
     "text": [
      "1/1 [==============================] - 1s 695ms/step\n",
      "[0.2127062  0.183093   0.08825708 0.17163347 0.34431028] 4 4\n",
      "1/1 [==============================] - 0s 16ms/step\n",
      "[0.27781436 0.1992964  0.07999737 0.05079815 0.39209372] 4 0\n",
      "1/1 [==============================] - 0s 15ms/step\n",
      "[0.05759909 0.07246854 0.12031488 0.06794133 0.68167615] 4 4\n",
      "1/1 [==============================] - 0s 16ms/step\n",
      "[0.23997448 0.20682453 0.0750186  0.05877846 0.41940394] 4 4\n",
      "1/1 [==============================] - 0s 16ms/step\n",
      "[0.11922451 0.1862082  0.06278174 0.05730107 0.57448447] 4 4\n",
      "1/1 [==============================] - 0s 15ms/step\n",
      "[0.1964975  0.22129549 0.05412278 0.04028712 0.4877971 ] 4 1\n",
      "1/1 [==============================] - 0s 16ms/step\n",
      "[0.10636815 0.45452294 0.16196048 0.12441228 0.15273619] 1 1\n",
      "1/1 [==============================] - 0s 15ms/step\n",
      "[0.11069085 0.44772112 0.16075215 0.12903057 0.15180528] 1 2\n",
      "1/1 [==============================] - 0s 15ms/step\n",
      "[0.12125816 0.44192094 0.15188514 0.13513932 0.14979643] 1 2\n",
      "1/1 [==============================] - 0s 17ms/step\n",
      "[0.5316802  0.20614895 0.10246171 0.03222706 0.12748201] 0 0\n",
      "1/1 [==============================] - 0s 15ms/step\n",
      "[0.3794277  0.16750228 0.10674256 0.03583625 0.3104912 ] 0 0\n",
      "1/1 [==============================] - 0s 16ms/step\n",
      "[0.19974975 0.18962781 0.08885865 0.18804258 0.33372122] 4 4\n",
      "1/1 [==============================] - 0s 15ms/step\n",
      "[0.25149587 0.20506427 0.07633955 0.05619649 0.4109039 ] 4 0\n",
      "1/1 [==============================] - 0s 16ms/step\n",
      "[0.08826341 0.16048482 0.04991977 0.02669233 0.6746397 ] 4 4\n",
      "1/1 [==============================] - 0s 16ms/step\n",
      "[0.5261669  0.21328312 0.10308123 0.03302991 0.12443881] 0 0\n"
     ]
    }
   ],
   "source": [
    "predict(X_test[10:25], model, last_n_points, y_test[10:25])"
   ]
  },
  {
   "cell_type": "markdown",
   "id": "81095486",
   "metadata": {},
   "source": [
    "As we can see, generarlly the classes 0 and 4 (bike and walk) where predicted correctly, unlike the clases 1 and 2 (bus and car).\n",
    "\n",
    "Let's reduce the classes to be only bike, car and walk (which are very different kind of trajectories) and redo all the process."
   ]
  },
  {
   "cell_type": "markdown",
   "id": "7b4170b6",
   "metadata": {},
   "source": [
    "## Reselecting the data"
   ]
  },
  {
   "cell_type": "code",
   "execution_count": 13,
   "id": "cc7bc9fc",
   "metadata": {},
   "outputs": [
    {
     "name": "stdout",
     "output_type": "stream",
     "text": [
      "0 bike\n",
      "1 car\n",
      "2 walk\n"
     ]
    }
   ],
   "source": [
    "trajectories = [\n",
    "    tmd[\"traj_data\"]\n",
    "    for tmd in data\n",
    "    if tmd[\"class\"] != \"train\" and tmd[\"class\"] != \"bus\"\n",
    "]\n",
    "classes = [\n",
    "    tmd[\"class\"] for tmd in data if tmd[\"class\"] != \"train\" and tmd[\"class\"] != \"bus\"\n",
    "]\n",
    "\n",
    "le = preprocessing.LabelEncoder()\n",
    "le.fit(classes)\n",
    "for cls, lbl in zip(le.classes_, le.transform(le.classes_)):\n",
    "    print(lbl, cls)\n",
    "labeled_classes = le.transform(classes)"
   ]
  },
  {
   "cell_type": "code",
   "execution_count": 14,
   "id": "d36693db",
   "metadata": {},
   "outputs": [],
   "source": [
    "X_train, X_test, y_train, y_test = train_test_split(\n",
    "    trajectories,\n",
    "    labeled_classes,\n",
    "    stratify=labeled_classes,\n",
    "    random_state=0,\n",
    "    test_size=0.20,\n",
    ")\n",
    "\n",
    "last_n_points = 100\n",
    "X_train = clamp_data(X_train, last_n_points)\n",
    "X_test = clamp_data(X_test, last_n_points)"
   ]
  },
  {
   "cell_type": "code",
   "execution_count": 15,
   "id": "b1b589c8",
   "metadata": {
    "scrolled": false
   },
   "outputs": [
    {
     "name": "stdout",
     "output_type": "stream",
     "text": [
      "Model: \"sequential_1\"\n",
      "_________________________________________________________________\n",
      " Layer (type)                Output Shape              Param #   \n",
      "=================================================================\n",
      " lstm_3 (LSTM)               (None, 100, 128)          67584     \n",
      "                                                                 \n",
      " lstm_4 (LSTM)               (None, 100, 64)           49408     \n",
      "                                                                 \n",
      " bidirectional_1 (Bidirectio  (None, 32)               24832     \n",
      " nal)                                                            \n",
      "                                                                 \n",
      " dense_2 (Dense)             (None, 15)                495       \n",
      "                                                                 \n",
      " dense_3 (Dense)             (None, 3)                 48        \n",
      "                                                                 \n",
      "=================================================================\n",
      "Total params: 142,367\n",
      "Trainable params: 142,367\n",
      "Non-trainable params: 0\n",
      "_________________________________________________________________\n",
      "Epoch 1/30\n",
      "54/54 [==============================] - ETA: 0s - loss: 0.9487 - accuracy: 0.5617\n",
      "Epoch 1: accuracy improved from -inf to 0.56169, saving model to best_model_3_cls.h5\n",
      "54/54 [==============================] - 8s 92ms/step - loss: 0.9487 - accuracy: 0.5617 - val_loss: 0.9798 - val_accuracy: 0.5563\n",
      "Epoch 2/30\n",
      "54/54 [==============================] - ETA: 0s - loss: 0.9100 - accuracy: 0.5858\n",
      "Epoch 2: accuracy improved from 0.56169 to 0.58578, saving model to best_model_3_cls.h5\n",
      "54/54 [==============================] - 4s 78ms/step - loss: 0.9100 - accuracy: 0.5858 - val_loss: 0.9729 - val_accuracy: 0.5775\n",
      "Epoch 3/30\n",
      "54/54 [==============================] - ETA: 0s - loss: 0.9057 - accuracy: 0.6052\n",
      "Epoch 3: accuracy improved from 0.58578 to 0.60517, saving model to best_model_3_cls.h5\n",
      "54/54 [==============================] - 4s 79ms/step - loss: 0.9057 - accuracy: 0.6052 - val_loss: 0.9280 - val_accuracy: 0.5869\n",
      "Epoch 4/30\n",
      "54/54 [==============================] - ETA: 0s - loss: 0.9040 - accuracy: 0.5911\n",
      "Epoch 4: accuracy did not improve from 0.60517\n",
      "54/54 [==============================] - 4s 77ms/step - loss: 0.9040 - accuracy: 0.5911 - val_loss: 0.9451 - val_accuracy: 0.5634\n",
      "Epoch 5/30\n",
      "54/54 [==============================] - ETA: 0s - loss: 0.9070 - accuracy: 0.5870\n",
      "Epoch 5: accuracy did not improve from 0.60517\n",
      "54/54 [==============================] - 4s 76ms/step - loss: 0.9070 - accuracy: 0.5870 - val_loss: 0.9298 - val_accuracy: 0.5869\n",
      "Epoch 6/30\n",
      "54/54 [==============================] - ETA: 0s - loss: 0.9020 - accuracy: 0.5958\n",
      "Epoch 6: accuracy did not improve from 0.60517\n",
      "54/54 [==============================] - 4s 76ms/step - loss: 0.9020 - accuracy: 0.5958 - val_loss: 0.9466 - val_accuracy: 0.5751\n",
      "Epoch 7/30\n",
      "54/54 [==============================] - ETA: 0s - loss: 0.9037 - accuracy: 0.5964\n",
      "Epoch 7: accuracy did not improve from 0.60517\n",
      "54/54 [==============================] - 4s 74ms/step - loss: 0.9037 - accuracy: 0.5964 - val_loss: 0.9394 - val_accuracy: 0.5657\n",
      "Epoch 8/30\n",
      "54/54 [==============================] - ETA: 0s - loss: 0.8925 - accuracy: 0.6034\n",
      "Epoch 8: accuracy did not improve from 0.60517\n",
      "54/54 [==============================] - 4s 75ms/step - loss: 0.8925 - accuracy: 0.6034 - val_loss: 0.9460 - val_accuracy: 0.5845\n",
      "Epoch 9/30\n",
      "54/54 [==============================] - ETA: 0s - loss: 0.8972 - accuracy: 0.5958\n",
      "Epoch 9: accuracy did not improve from 0.60517\n",
      "54/54 [==============================] - 4s 75ms/step - loss: 0.8972 - accuracy: 0.5958 - val_loss: 0.9386 - val_accuracy: 0.5892\n",
      "Epoch 10/30\n",
      "54/54 [==============================] - ETA: 0s - loss: 0.8903 - accuracy: 0.6075\n",
      "Epoch 10: accuracy improved from 0.60517 to 0.60752, saving model to best_model_3_cls.h5\n",
      "54/54 [==============================] - 4s 77ms/step - loss: 0.8903 - accuracy: 0.6075 - val_loss: 0.9730 - val_accuracy: 0.5399\n",
      "Epoch 11/30\n",
      "54/54 [==============================] - ETA: 0s - loss: 0.8956 - accuracy: 0.6005\n",
      "Epoch 11: accuracy did not improve from 0.60752\n",
      "54/54 [==============================] - 4s 76ms/step - loss: 0.8956 - accuracy: 0.6005 - val_loss: 0.9369 - val_accuracy: 0.5822\n",
      "Epoch 12/30\n",
      "54/54 [==============================] - ETA: 0s - loss: 0.8938 - accuracy: 0.5964\n",
      "Epoch 12: accuracy did not improve from 0.60752\n",
      "54/54 [==============================] - 4s 77ms/step - loss: 0.8938 - accuracy: 0.5964 - val_loss: 0.9219 - val_accuracy: 0.5845\n",
      "Epoch 13/30\n",
      "54/54 [==============================] - ETA: 0s - loss: 0.8945 - accuracy: 0.6052\n",
      "Epoch 13: accuracy did not improve from 0.60752\n",
      "54/54 [==============================] - 4s 76ms/step - loss: 0.8945 - accuracy: 0.6052 - val_loss: 0.9637 - val_accuracy: 0.5728\n",
      "Epoch 14/30\n",
      "54/54 [==============================] - ETA: 0s - loss: 0.8963 - accuracy: 0.6087\n",
      "Epoch 14: accuracy improved from 0.60752 to 0.60870, saving model to best_model_3_cls.h5\n",
      "54/54 [==============================] - 4s 75ms/step - loss: 0.8963 - accuracy: 0.6087 - val_loss: 0.9699 - val_accuracy: 0.5798\n",
      "Epoch 15/30\n",
      "54/54 [==============================] - ETA: 0s - loss: 0.8953 - accuracy: 0.6040\n",
      "Epoch 15: accuracy did not improve from 0.60870\n",
      "54/54 [==============================] - 4s 74ms/step - loss: 0.8953 - accuracy: 0.6040 - val_loss: 0.9458 - val_accuracy: 0.5751\n",
      "Epoch 15: early stopping\n"
     ]
    }
   ],
   "source": [
    "model = get_model(3)\n",
    "model.summary()\n",
    "es = callbacks.EarlyStopping(monitor=\"loss\", mode=\"min\", verbose=1, patience=5)\n",
    "mc = callbacks.ModelCheckpoint(\n",
    "    \"best_model_3_cls.h5\", monitor=\"accuracy\", mode=\"max\", verbose=1, save_best_only=True\n",
    ")\n",
    "history = model.fit(X_train, np.array(y_train), epochs=30, callbacks=[mc, es], validation_split=0.2)"
   ]
  },
  {
   "cell_type": "code",
   "execution_count": 16,
   "id": "d5f66d3b",
   "metadata": {},
   "outputs": [
    {
     "data": {
      "image/png": "[encoded data removed]",
      "text/plain": [
       "<Figure size 432x288 with 1 Axes>"
      ]
     },
     "metadata": {
      "needs_background": "light"
     },
     "output_type": "display_data"
    },
    {
     "data": {
      "image/png": "[encoded data removed]",
      "text/plain": [
       "<Figure size 432x288 with 1 Axes>"
      ]
     },
     "metadata": {
      "needs_background": "light"
     },
     "output_type": "display_data"
    },
    {
     "name": "stdout",
     "output_type": "stream",
     "text": [
      "17/17 [==============================] - 0s 22ms/step - loss: 0.8960 - accuracy: 0.6060\n",
      "[0.8960185647010803, 0.6060037612915039]\n"
     ]
    }
   ],
   "source": [
    "save_history(history.history, \"best_model_3_cls_history\")\n",
    "plot_model_results(history.history)\n",
    "print(model.evaluate(X_test, y_test))"
   ]
  },
  {
   "cell_type": "markdown",
   "id": "7498a15f",
   "metadata": {},
   "source": [
    "As we can see, the model had better perfomance with this 3 classes."
   ]
  }
 ],
 "metadata": {
  "kernelspec": {
   "display_name": "Python 3 (ipykernel)",
   "language": "python",
   "name": "python3"
  },
  "language_info": {
   "codemirror_mode": {
    "name": "ipython",
    "version": 3
   },
   "file_extension": ".py",
   "mimetype": "text/x-python",
   "name": "python",
   "nbconvert_exporter": "python",
   "pygments_lexer": "ipython3",
   "version": "3.10.5"
  }
 },
 "nbformat": 4,
 "nbformat_minor": 5
}
