{
 "cells": [
  {
   "cell_type": "markdown",
   "id": "eb11a042",
   "metadata": {},
   "source": [
    "# Data selection\n",
    "\n",
    "This notebook will explain how and why we selected the data to be used in the classification tasks. All the code below is summarised in the `get_selected_data` function in the `data_handler.py` module. \n",
    "\n",
    "Let's load the metadata and see the classes"
   ]
  },
  {
   "cell_type": "code",
   "execution_count": 1,
   "id": "6050184a",
   "metadata": {},
   "outputs": [
    {
     "name": "stdout",
     "output_type": "stream",
     "text": [
      "{'run', 'motorcycle', 'boat', 'train', 'airplane', 'bike', 'bus', 'taxi', 'subway', 'car', 'walk'}\n"
     ]
    }
   ],
   "source": [
    "import numpy as np\n",
    "from data_handler import load_trajs_metadata, load_trajs_data\n",
    "\n",
    "metadata = load_trajs_metadata(\"trajectories/metadata.json\")\n",
    "all_classes = set(traj_md[\"class\"] for traj_md in metadata)\n",
    "print(all_classes)"
   ]
  },
  {
   "cell_type": "markdown",
   "id": "f6a4c32f",
   "metadata": {},
   "source": [
    "For this project we will be classifing only between: `car`, `taxi`, `bus`, `run`, `walk`, `bike`, `subway`, `train`\n",
    "\n",
    "Also, some classes might be treated as the same (e.g., `car` and `taxi`, `train` and `subway`)\n",
    "\n",
    "Let's remove the unnecessary trajectories and join those who can be treated as the same type."
   ]
  },
  {
   "cell_type": "code",
   "execution_count": 2,
   "id": "8f9f0200",
   "metadata": {},
   "outputs": [],
   "source": [
    "classes = {\"car\", \"taxi\", \"run\", \"bus\", \"walk\", \"bike\", \"subway\", \"train\"}\n",
    "data = [traj_md for traj_md in metadata if traj_md[\"class\"] in classes]\n",
    "for traj_md in data:\n",
    "    if traj_md[\"class\"] == \"taxi\":\n",
    "        traj_md[\"class\"] = \"car\"\n",
    "    if traj_md[\"class\"] == \"subway\":\n",
    "        traj_md[\"class\"] = \"train\"\n",
    "classes.remove(\"taxi\")\n",
    "classes.remove(\"subway\")"
   ]
  },
  {
   "cell_type": "markdown",
   "id": "0978612c",
   "metadata": {},
   "source": [
    "Let's see how many trajectories are left and how many of each type"
   ]
  },
  {
   "cell_type": "code",
   "execution_count": 3,
   "id": "aef6cda7",
   "metadata": {},
   "outputs": [
    {
     "name": "stdout",
     "output_type": "stream",
     "text": [
      "Total trajectories: 9458\n",
      "train: 790\n",
      "car: 1291\n",
      "walk: 3979\n",
      "bus: 1846\n",
      "bike: 1548\n",
      "run: 4\n"
     ]
    }
   ],
   "source": [
    "from collections import Counter\n",
    "\n",
    "def data_info(data):\n",
    "    print(\"Total trajectories:\", len(data))\n",
    "    classes_count = Counter([traj_md[\"class\"] for traj_md in data])\n",
    "    for clsf, ammount in classes_count.items():\n",
    "        print(f\"{clsf}: {ammount}\")\n",
    "\n",
    "data_info(data)"
   ]
  },
  {
   "cell_type": "markdown",
   "id": "620c36cb",
   "metadata": {},
   "source": [
    "As we can notice, the `run` class has only 4 trajectories. This is not enough data, so it will be removed as well."
   ]
  },
  {
   "cell_type": "code",
   "execution_count": 4,
   "id": "70c9609c",
   "metadata": {},
   "outputs": [],
   "source": [
    "data = [traj_md for traj_md in data if traj_md[\"class\"] != \"run\"]"
   ]
  },
  {
   "cell_type": "markdown",
   "id": "176698cd",
   "metadata": {},
   "source": [
    "Now, let's add the data (GPS points and time) of each trajectory using the `load_trajs_data` function."
   ]
  },
  {
   "cell_type": "code",
   "execution_count": 5,
   "id": "5ab59001",
   "metadata": {},
   "outputs": [
    {
     "name": "stdout",
     "output_type": "stream",
     "text": [
      "100.00%\r"
     ]
    }
   ],
   "source": [
    "data = load_trajs_data(data)"
   ]
  },
  {
   "cell_type": "markdown",
   "id": "f731c475",
   "metadata": {},
   "source": [
    "Let's see some basic statistical information of some trajectories"
   ]
  },
  {
   "cell_type": "code",
   "execution_count": 6,
   "id": "84e2499e",
   "metadata": {},
   "outputs": [
    {
     "name": "stdout",
     "output_type": "stream",
     "text": [
      "--------------------\n",
      "Mean dt:  56.79 s\n",
      "Traj len: 69\n",
      "--------------------\n",
      "Mean dt:  57.35 s\n",
      "Traj len: 379\n",
      "--------------------\n",
      "Mean dt:  65.02 s\n",
      "Traj len: 801\n",
      "--------------------\n",
      "Mean dt:  120.74 s\n",
      "Traj len: 716\n",
      "--------------------\n",
      "Mean dt:  124.10 s\n",
      "Traj len: 316\n",
      "--------------------\n",
      "Mean dt:  80.24 s\n",
      "Traj len: 502\n",
      "--------------------\n",
      "Mean dt:  59.22 s\n",
      "Traj len: 10\n",
      "--------------------\n",
      "Mean dt:  58.73 s\n",
      "Traj len: 439\n",
      "--------------------\n",
      "Mean dt:  59.18 s\n",
      "Traj len: 12\n",
      "--------------------\n",
      "Mean dt:  58.88 s\n",
      "Traj len: 9\n"
     ]
    }
   ],
   "source": [
    "def traj_mean_dt(traj):\n",
    "    return np.mean(np.diff(traj[:,2]))\n",
    "\n",
    "for tmd in data[:10]:\n",
    "    traj_data = tmd[\"traj_data\"]\n",
    "    print(\n",
    "         \"--------------------\",\n",
    "        f\"Mean dt:  {traj_mean_dt(traj_data):.2f} s\",\n",
    "        f\"Traj len: {traj_data.shape[0]}\",\n",
    "        sep=\"\\n\"\n",
    "    )"
   ]
  },
  {
   "cell_type": "markdown",
   "id": "5e26ca14",
   "metadata": {},
   "source": [
    "This shows that there are some trajectories with a very long time spacing and very few points. So, let's filter the trajectories by taking thos who have `dt <= 3s` and `len >= 100`. "
   ]
  },
  {
   "cell_type": "code",
   "execution_count": 10,
   "id": "fc46cae9",
   "metadata": {},
   "outputs": [
    {
     "name": "stdout",
     "output_type": "stream",
     "text": [
      "Total trajectories: 4004\n",
      "walk: 1208\n",
      "car: 410\n",
      "train: 303\n",
      "bus: 989\n",
      "bike: 1094\n"
     ]
    }
   ],
   "source": [
    "data = [tmd for tmd in data if traj_mean_dt(tmd[\"traj_data\"]) <= 3 and tmd[\"traj_data\"].shape[0] >= 100]\n",
    "data_info(data)"
   ]
  },
  {
   "cell_type": "markdown",
   "id": "2c980257",
   "metadata": {},
   "source": [
    "As the info shows, the final count for the total trajectories are 4004, and the distribution between classes is not so homogeneus, but this will be taken in account for the classification."
   ]
  }
 ],
 "metadata": {
  "kernelspec": {
   "display_name": "Python 3 (ipykernel)",
   "language": "python",
   "name": "python3"
  },
  "language_info": {
   "codemirror_mode": {
    "name": "ipython",
    "version": 3
   },
   "file_extension": ".py",
   "mimetype": "text/x-python",
   "name": "python",
   "nbconvert_exporter": "python",
   "pygments_lexer": "ipython3",
   "version": "3.10.5"
  }
 },
 "nbformat": 4,
 "nbformat_minor": 5
}
