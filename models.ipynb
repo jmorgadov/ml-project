{
 "cells": [
  {
   "cell_type": "markdown",
   "metadata": {},
   "source": [
    "# Classifiers for feature vectors"
   ]
  },
  {
   "cell_type": "markdown",
   "metadata": {},
   "source": [
    "As seen in the literature, the models used for trajectory classification are SVM, KNN, DBSCAN and KMEANS. In this notebook we are going to test the effectiveness of these models."
   ]
  },
  {
   "cell_type": "markdown",
   "metadata": {},
   "source": [
    "Firstly, we are going to load the vectors where the trajectories are described by their characteristics."
   ]
  },
  {
   "cell_type": "code",
   "execution_count": 8,
   "metadata": {},
   "outputs": [
    {
     "name": "stdout",
     "output_type": "stream",
     "text": [
      "100.00%\r"
     ]
    }
   ],
   "source": [
    "import feature_vec as fv\n",
    "\n",
    "metadata = fv.get_selected_data()\n",
    "feat_vectors, clss_mask, clss = fv.get_feat_vectors(metadata)"
   ]
  },
  {
   "cell_type": "markdown",
   "metadata": {},
   "source": [
    "Now, we split the data into 70% for model training and the other 30% for testing."
   ]
  },
  {
   "cell_type": "code",
   "execution_count": 62,
   "metadata": {},
   "outputs": [],
   "source": [
    "from sklearn.model_selection import train_test_split\n",
    "\n",
    "X_train, X_test, y_train, y_test = train_test_split(feat_vectors, clss, train_size=0.70)"
   ]
  },
  {
   "cell_type": "markdown",
   "metadata": {},
   "source": [
    "## Decision Tree Classifier"
   ]
  },
  {
   "cell_type": "code",
   "execution_count": 63,
   "metadata": {},
   "outputs": [
    {
     "data": {
      "text/plain": [
       "0.8148774302620456"
      ]
     },
     "execution_count": 63,
     "metadata": {},
     "output_type": "execute_result"
    }
   ],
   "source": [
    "from sklearn.tree import DecisionTreeClassifier\n",
    "\n",
    "dtc = DecisionTreeClassifier(criterion='entropy')\n",
    "dtc.fit(X_train, y_train)\n",
    "dtc.score(X_test, y_test)\n",
    "\n",
    "# 0.81"
   ]
  },
  {
   "cell_type": "markdown",
   "metadata": {},
   "source": [
    "## Random Forest Classifier"
   ]
  },
  {
   "cell_type": "code",
   "execution_count": 64,
   "metadata": {},
   "outputs": [
    {
     "data": {
      "text/plain": [
       "0.9070160608622148"
      ]
     },
     "execution_count": 64,
     "metadata": {},
     "output_type": "execute_result"
    }
   ],
   "source": [
    "from sklearn.ensemble import RandomForestClassifier\n",
    "\n",
    "rfc = RandomForestClassifier(criterion='entropy', max_features='log2', bootstrap=False)\n",
    "rfc.fit(X_train, y_train)\n",
    "rfc.score(X_test, y_test)\n",
    "\n",
    "# 0.88"
   ]
  },
  {
   "cell_type": "markdown",
   "metadata": {},
   "source": [
    "## K-Nearest Neighbors"
   ]
  },
  {
   "cell_type": "code",
   "execution_count": 10,
   "metadata": {},
   "outputs": [
    {
     "data": {
      "text/plain": [
       "0.6889264581572274"
      ]
     },
     "execution_count": 10,
     "metadata": {},
     "output_type": "execute_result"
    }
   ],
   "source": [
    "from sklearn.neighbors import KNeighborsClassifier"
   ]
  },
  {
   "cell_type": "markdown",
   "metadata": {},
   "source": [
    "Whith number of neighbors by default for kneighbors queries."
   ]
  },
  {
   "cell_type": "code",
   "execution_count": 73,
   "metadata": {},
   "outputs": [
    {
     "data": {
      "text/plain": [
       "0.6990701606086221"
      ]
     },
     "execution_count": 73,
     "metadata": {},
     "output_type": "execute_result"
    }
   ],
   "source": [
    "knn = KNeighborsClassifier(weights='distance')\n",
    "knn.fit(X_train, y_train)\n",
    "knn.score(X_test, y_test)\n",
    "\n",
    "# 0.70"
   ]
  },
  {
   "cell_type": "markdown",
   "metadata": {},
   "source": [
    "The results with the weights parameter with value 'distance' are better."
   ]
  },
  {
   "cell_type": "markdown",
   "metadata": {},
   "source": [
    "Whith number of neighbors in 20."
   ]
  },
  {
   "cell_type": "code",
   "execution_count": 69,
   "metadata": {},
   "outputs": [
    {
     "data": {
      "text/plain": [
       "0.7379543533389687"
      ]
     },
     "execution_count": 69,
     "metadata": {},
     "output_type": "execute_result"
    }
   ],
   "source": [
    "knn = KNeighborsClassifier(weights='distance', n_neighbors=20)\n",
    "knn.fit(X_train, y_train)\n",
    "knn.score(X_test, y_test)\n",
    "\n",
    "# 0.71"
   ]
  },
  {
   "cell_type": "code",
   "execution_count": 96,
   "metadata": {},
   "outputs": [
    {
     "name": "stdout",
     "output_type": "stream",
     "text": [
      "[Pipeline] ............... (step 1 of 3) Processing pca, total=   0.1s\n",
      "[Pipeline] ............... (step 2 of 3) Processing std, total=   0.0s\n",
      "[Pipeline] ..... (step 3 of 3) Processing Random_Forest, total=   1.3s\n"
     ]
    },
    {
     "data": {
      "text/plain": [
       "0.8402366863905325"
      ]
     },
     "execution_count": 96,
     "metadata": {},
     "output_type": "execute_result"
    }
   ],
   "source": [
    "from sklearn.pipeline import make_pipeline, Pipeline\n",
    "from sklearn.preprocessing import StandardScaler\n",
    "from sklearn.decomposition import PCA\n",
    "\n",
    "pipeline = Pipeline([('pca', PCA(n_components = 15)), ('std', StandardScaler()), \n",
    "                     ('Random_Forest', RandomForestClassifier())], verbose = True)\n",
    "\n",
    "pipeline.fit(X_train, y_train)\n",
    "pipeline.score(X_test, y_test)"
   ]
  },
  {
   "cell_type": "markdown",
   "metadata": {},
   "source": [
    "## Support Vector Machine"
   ]
  },
  {
   "cell_type": "code",
   "execution_count": 11,
   "metadata": {},
   "outputs": [],
   "source": [
    "from sklearn.svm import SVC"
   ]
  },
  {
   "cell_type": "markdown",
   "metadata": {},
   "source": [
    "Standardizing the data and using the rbf kernel."
   ]
  },
  {
   "cell_type": "code",
   "execution_count": null,
   "metadata": {},
   "outputs": [],
   "source": [
    "svm = make_pipeline(StandardScaler(), SVC(kernel = 'rbf', gamma='auto', probability=True))\n",
    "svm.fit(X_train, y_train)\n",
    "\n",
    "svm.score(X_test, y_test)\n",
    "\n",
    "# 0.85"
   ]
  },
  {
   "cell_type": "code",
   "execution_count": 66,
   "metadata": {},
   "outputs": [
    {
     "data": {
      "text/plain": [
       "0.7565511411665258"
      ]
     },
     "execution_count": 66,
     "metadata": {},
     "output_type": "execute_result"
    }
   ],
   "source": [
    "svm = make_pipeline(StandardScaler(), SVC(kernel='poly', degree=3, gamma='scale'))\n",
    "svm.fit(X_train, y_train)\n",
    "\n",
    "svm.score(X_test, y_test)\n",
    "\n",
    "#0.72"
   ]
  },
  {
   "cell_type": "code",
   "execution_count": 67,
   "metadata": {},
   "outputs": [
    {
     "data": {
      "text/plain": [
       "0.7311918850380389"
      ]
     },
     "execution_count": 67,
     "metadata": {},
     "output_type": "execute_result"
    }
   ],
   "source": [
    "svm = make_pipeline(StandardScaler(), SVC(kernel='sigmoid', gamma='auto'))\n",
    "svm.fit(X_train, y_train)\n",
    "\n",
    "svm.score(X_test, y_test)\n",
    "\n",
    "# 0.71"
   ]
  },
  {
   "cell_type": "markdown",
   "metadata": {},
   "source": [
    "## Neural Networks"
   ]
  },
  {
   "cell_type": "code",
   "execution_count": null,
   "metadata": {},
   "outputs": [],
   "source": [
    "# Write our code here XD"
   ]
  },
  {
   "cell_type": "markdown",
   "metadata": {},
   "source": [
    "Let's evaluate the models"
   ]
  },
  {
   "cell_type": "code",
   "execution_count": 95,
   "metadata": {},
   "outputs": [
    {
     "name": "stdout",
     "output_type": "stream",
     "text": [
      "Accuracy: 0.8555\n",
      "AUC: 0.9676\n"
     ]
    }
   ],
   "source": [
    "from sklearn.metrics import accuracy_score, roc_auc_score\n",
    "\n",
    "acc_score = accuracy_score(y_test, y_pred=svm.predict(X_test))\n",
    "auc_score = roc_auc_score(y_test, svm.predict_proba(X_test)[:], multi_class='ovr')\n",
    "print(f\"Accuracy: {acc_score:0.4f}\")\n",
    "print(f\"AUC: {auc_score:0.4f}\")"
   ]
  },
  {
   "cell_type": "markdown",
   "metadata": {},
   "source": [
    "## KMeans"
   ]
  },
  {
   "cell_type": "code",
   "execution_count": 101,
   "metadata": {},
   "outputs": [
    {
     "name": "stdout",
     "output_type": "stream",
     "text": [
      "Initialization complete\n",
      "Iteration 0, inertia 2.4780358113286615e+36\n",
      "Iteration 1, inertia 2.453453944709991e+36\n",
      "Iteration 2, inertia 1.278771200133821e+36\n",
      "Iteration 3, inertia 7.98588464964244e+35\n",
      "Iteration 4, inertia 3.0059292173441837e+35\n",
      "Iteration 5, inertia 2.9698281681824833e+35\n",
      "Iteration 6, inertia 2.935909578057414e+35\n",
      "Converged at iteration 6: strict convergence.\n",
      "Initialization complete\n",
      "Iteration 0, inertia 2.4780358113286524e+36\n",
      "Iteration 1, inertia 2.3705006336285012e+36\n",
      "Iteration 2, inertia 1.2787711532082803e+36\n",
      "Iteration 3, inertia 7.985884649642438e+35\n",
      "Iteration 4, inertia 3.0139392350703178e+35\n",
      "Iteration 5, inertia 2.9698281681824833e+35\n",
      "Iteration 6, inertia 2.935909578057674e+35\n",
      "Converged at iteration 6: strict convergence.\n",
      "Initialization complete\n",
      "Iteration 0, inertia 2.4780358113286683e+36\n",
      "Iteration 1, inertia 2.4394237262553433e+36\n",
      "Iteration 2, inertia 1.2787711969985272e+36\n",
      "Iteration 3, inertia 7.985884649642409e+35\n",
      "Iteration 4, inertia 3.013564937590225e+35\n",
      "Iteration 5, inertia 2.9698281681824833e+35\n",
      "Iteration 6, inertia 2.935909578057674e+35\n",
      "Converged at iteration 6: strict convergence.\n",
      "Initialization complete\n",
      "Iteration 0, inertia 2.4780358113285804e+36\n",
      "Iteration 1, inertia 1.6837375438883973e+36\n",
      "Iteration 2, inertia 1.2154800203853511e+36\n",
      "Iteration 3, inertia 7.801657200447546e+35\n",
      "Iteration 4, inertia 2.9897586459818202e+35\n",
      "Iteration 5, inertia 2.935909578057674e+35\n",
      "Converged at iteration 5: strict convergence.\n",
      "Initialization complete\n",
      "Iteration 0, inertia 2.478035811328079e+36\n",
      "Iteration 1, inertia 3.163014441285868e+35\n",
      "Iteration 2, inertia 1.7566568933830423e+35\n",
      "Iteration 3, inertia 1.6063387608142246e+35\n",
      "Iteration 4, inertia 1.322590103411458e+35\n",
      "Iteration 5, inertia 1.0374698617162801e+34\n",
      "Iteration 6, inertia 4.989791824748171e+33\n",
      "Converged at iteration 6: strict convergence.\n",
      "Initialization complete\n",
      "Iteration 0, inertia 2.478035811328639e+36\n",
      "Iteration 1, inertia 2.4010712080645194e+36\n",
      "Iteration 2, inertia 1.2787712002918039e+36\n",
      "Iteration 3, inertia 7.985884649642438e+35\n",
      "Iteration 4, inertia 3.0139319450523734e+35\n",
      "Iteration 5, inertia 2.9698281681824836e+35\n",
      "Iteration 6, inertia 2.935909578057674e+35\n",
      "Converged at iteration 6: strict convergence.\n",
      "Initialization complete\n",
      "Iteration 0, inertia 2.47803581132866e+36\n",
      "Iteration 1, inertia 2.368611350689209e+36\n",
      "Iteration 2, inertia 1.2787712003875186e+36\n",
      "Iteration 3, inertia 7.985884649642434e+35\n",
      "Iteration 4, inertia 2.9897587932214344e+35\n",
      "Iteration 5, inertia 2.9359095780574135e+35\n",
      "Converged at iteration 5: strict convergence.\n",
      "Initialization complete\n",
      "Iteration 0, inertia 2.478035811328669e+36\n",
      "Iteration 1, inertia 1.7089592992143443e+36\n",
      "Iteration 2, inertia 1.1889470876643853e+36\n",
      "Iteration 3, inertia 4.4626704307224554e+35\n",
      "Iteration 4, inertia 2.9897586459818202e+35\n",
      "Iteration 5, inertia 2.935909578057674e+35\n",
      "Converged at iteration 5: center shift 2.603055539413721e+22 within tolerance 1.7580658267356e+27.\n",
      "Initialization complete\n",
      "Iteration 0, inertia 2.4780358113286524e+36\n",
      "Iteration 1, inertia 2.4648178288465714e+36\n",
      "Iteration 2, inertia 1.2787711295378851e+36\n",
      "Iteration 3, inertia 7.985884649642441e+35\n",
      "Iteration 4, inertia 3.0139285996013827e+35\n",
      "Iteration 5, inertia 2.9698281681824833e+35\n",
      "Iteration 6, inertia 2.935909578057674e+35\n",
      "Converged at iteration 6: strict convergence.\n",
      "Initialization complete\n",
      "Iteration 0, inertia 2.4780358113286007e+36\n",
      "Iteration 1, inertia 5.355210157325334e+35\n",
      "Iteration 2, inertia 1.8651690437958833e+35\n",
      "Iteration 3, inertia 1.6446608985550754e+35\n",
      "Iteration 4, inertia 1.606338760814485e+35\n",
      "Iteration 5, inertia 1.3225902204247303e+35\n",
      "Iteration 6, inertia 1.279341353993197e+34\n"
     ]
    },
    {
     "name": "stderr",
     "output_type": "stream",
     "text": [
      "Exception ignored on calling ctypes callback function: <function _ThreadpoolInfo._find_modules_with_dl_iterate_phdr.<locals>.match_module_callback at 0x7f23758cae50>\n",
      "Traceback (most recent call last):\n",
      "  File \"/home/manoly/.local/lib/python3.8/site-packages/threadpoolctl.py\", line 400, in match_module_callback\n",
      "    self._make_module_from_path(filepath)\n",
      "  File \"/home/manoly/.local/lib/python3.8/site-packages/threadpoolctl.py\", line 515, in _make_module_from_path\n",
      "    module = module_class(filepath, prefix, user_api, internal_api)\n",
      "  File \"/home/manoly/.local/lib/python3.8/site-packages/threadpoolctl.py\", line 606, in __init__\n",
      "    self.version = self.get_version()\n",
      "  File \"/home/manoly/.local/lib/python3.8/site-packages/threadpoolctl.py\", line 646, in get_version\n",
      "    config = get_config().split()\n",
      "AttributeError: 'NoneType' object has no attribute 'split'\n"
     ]
    },
    {
     "name": "stdout",
     "output_type": "stream",
     "text": [
      "Iteration 7, inertia 8.381650837229101e+33\n",
      "Iteration 8, inertia 4.9897918247481714e+33\n",
      "Converged at iteration 8: strict convergence.\n",
      "-1.1201767083825649e+35\n"
     ]
    },
    {
     "data": {
      "text/plain": [
       "'\\n# Calcular la homogeneidad y la integridad de los clusters.\\nhomogeneity = metrics.homogeneity_score(y_test, y_pred)\\ncompleteness = metrics.completeness_score(y_, y_pred) \\n\\n# Calcular el coeficiente de coeficiente de Silhouette para cada muestra.\\ns = metrics.silhouette_samples(X, y_pred)\\n\\n# Calcule el coeficiente de Silhouette medio de todos los puntos de datos.\\ns_mean = metrics.silhouette_score(X, y_pred) \\n'"
      ]
     },
     "execution_count": 101,
     "metadata": {},
     "output_type": "execute_result"
    }
   ],
   "source": [
    "from sklearn.cluster import KMeans \n",
    "from sklearn import metrics\n",
    "\n",
    "kmeans = KMeans(n_clusters=5,\n",
    "                n_init=10,\n",
    "                init='random',\n",
    "                tol=1e-4, \n",
    "                random_state=170,\n",
    "                verbose=True)\n",
    "\n",
    "y_pred = kmeans.fit(X=X_train)\n",
    "\n",
    "print(kmeans.score(X=X_test, y=y_test))\n",
    "\n",
    "'''\n",
    "# Calcular la homogeneidad y la integridad de los clusters.\n",
    "homogeneity = metrics.homogeneity_score(y_test, y_pred)\n",
    "completeness = metrics.completeness_score(y_, y_pred) \n",
    "\n",
    "# Calcular el coeficiente de coeficiente de Silhouette para cada muestra.\n",
    "s = metrics.silhouette_samples(X, y_pred)\n",
    "\n",
    "# Calcule el coeficiente de Silhouette medio de todos los puntos de datos.\n",
    "s_mean = metrics.silhouette_score(X, y_pred) \n",
    "''' "
   ]
  },
  {
   "cell_type": "markdown",
   "metadata": {},
   "source": [
    "DBSCAN"
   ]
  },
  {
   "cell_type": "code",
   "execution_count": null,
   "metadata": {},
   "outputs": [],
   "source": []
  }
 ],
 "metadata": {
  "interpreter": {
   "hash": "916dbcbb3f70747c44a77c7bcd40155683ae19c65e1c03b4aa3499c5328201f1"
  },
  "kernelspec": {
   "display_name": "Python 3.8.10 64-bit",
   "language": "python",
   "name": "python3"
  },
  "language_info": {
   "codemirror_mode": {
    "name": "ipython",
    "version": 3
   },
   "file_extension": ".py",
   "mimetype": "text/x-python",
   "name": "python",
   "nbconvert_exporter": "python",
   "pygments_lexer": "ipython3",
   "version": "3.8.10"
  },
  "orig_nbformat": 4
 },
 "nbformat": 4,
 "nbformat_minor": 2
}
