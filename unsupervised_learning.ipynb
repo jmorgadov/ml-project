{
 "cells": [
  {
   "cell_type": "markdown",
   "metadata": {},
   "source": [
    "# Unsupervised Learning"
   ]
  },
  {
   "cell_type": "markdown",
   "metadata": {},
   "source": [
    "Como pudimos ver, hay muchos modelos usados ​​en la clasificación de trayectorias, en este cuaderno vamos a usar y probar modelos de aprendizaje no supervisado (en caso de que no haya sido lo suficientemente obvio ya)"
   ]
  },
  {
   "cell_type": "markdown",
   "metadata": {},
   "source": [
    "Primero que todo vamos a cargar los vectores donde se describen las trayectorias por sus características."
   ]
  },
  {
   "cell_type": "code",
   "execution_count": null,
   "metadata": {},
   "outputs": [
    {
     "name": "stdout",
     "output_type": "stream",
     "text": [
      "100.00%\r"
     ]
    }
   ],
   "source": [
    "import feature_vec as fv\n",
    "\n",
    "metadata = fv.get_selected_data()\n",
    "feat_vectors, clss_mask, clss = fv.get_feat_vectors(metadata)"
   ]
  },
  {
   "cell_type": "markdown",
   "metadata": {},
   "source": [
    "## K-Means"
   ]
  },
  {
   "cell_type": "markdown",
   "metadata": {},
   "source": [
    "Aplicando el algoritmo K-Means a los datos"
   ]
  },
  {
   "cell_type": "code",
   "execution_count": 4,
   "metadata": {},
   "outputs": [
    {
     "name": "stdout",
     "output_type": "stream",
     "text": [
      "Initialization complete\n",
      "Iteration 0, inertia 2.743482413002359e+36\n",
      "Iteration 1, inertia 2.665040300787289e+36\n",
      "Iteration 2, inertia 1.3149946054482284e+36\n",
      "Iteration 3, inertia 8.05866342824041e+35\n",
      "Iteration 4, inertia 4.689760208405033e+35\n",
      "Iteration 5, inertia 3.856167907774093e+35\n",
      "Iteration 6, inertia 3.686612999050166e+35\n",
      "Iteration 7, inertia 3.2261252425252728e+35\n",
      "Iteration 8, inertia 1.1869862147497005e+35\n",
      "Iteration 9, inertia 4.902831953831761e+34\n",
      "Iteration 10, inertia 2.487211731496574e+34\n",
      "Iteration 11, inertia 1.9647179854501834e+34\n",
      "Iteration 12, inertia 1.789500026676851e+34\n",
      "Converged at iteration 12: strict convergence.\n",
      "Initialization complete\n",
      "Iteration 0, inertia 2.743482413002287e+36\n",
      "Iteration 1, inertia 2.6015227547155552e+36\n",
      "Iteration 2, inertia 2.5495559500566742e+35\n",
      "Iteration 3, inertia 1.8749764459196463e+35\n",
      "Iteration 4, inertia 1.2848393771158263e+35\n",
      "Iteration 5, inertia 4.968578113164767e+34\n",
      "Iteration 6, inertia 2.487211731496574e+34\n",
      "Iteration 7, inertia 1.9647179854501834e+34\n",
      "Iteration 8, inertia 1.789500026676851e+34\n",
      "Converged at iteration 8: strict convergence.\n",
      "Initialization complete\n",
      "Iteration 0, inertia 2.7434824130023675e+36\n",
      "Iteration 1, inertia 2.721948358311863e+36\n",
      "Iteration 2, inertia 1.3149945945173837e+36\n",
      "Iteration 3, inertia 8.05866342824041e+35\n",
      "Iteration 4, inertia 4.689760208405033e+35\n",
      "Iteration 5, inertia 3.856167907774093e+35\n",
      "Iteration 6, inertia 3.686612999050166e+35\n",
      "Iteration 7, inertia 3.2261252425252728e+35\n",
      "Iteration 8, inertia 1.1869862147497005e+35\n",
      "Iteration 9, inertia 4.902831953831761e+34\n",
      "Iteration 10, inertia 2.487211731496574e+34\n",
      "Iteration 11, inertia 1.9647179854501834e+34\n",
      "Iteration 12, inertia 1.789500026676851e+34\n",
      "Converged at iteration 12: strict convergence.\n",
      "Initialization complete\n",
      "Iteration 0, inertia 2.743482413002341e+36\n",
      "Iteration 1, inertia 2.713883852386554e+36\n",
      "Iteration 2, inertia 1.3149946053607755e+36\n",
      "Iteration 3, inertia 8.058663428240437e+35\n",
      "Iteration 4, inertia 4.7025069551682846e+35\n",
      "Iteration 5, inertia 3.856167907774353e+35\n",
      "Iteration 6, inertia 3.686612999050166e+35\n",
      "Iteration 7, inertia 3.2261252425252728e+35\n",
      "Iteration 8, inertia 1.1869862147497005e+35\n",
      "Iteration 9, inertia 4.902831953831761e+34\n",
      "Iteration 10, inertia 2.487211731496574e+34\n",
      "Iteration 11, inertia 1.9647179854501834e+34\n",
      "Iteration 12, inertia 1.789500026676851e+34\n",
      "Converged at iteration 12: strict convergence.\n",
      "Initialization complete\n",
      "Iteration 0, inertia 2.743482413002348e+36\n",
      "Iteration 1, inertia 1.5313365766165727e+36\n",
      "Iteration 2, inertia 1.131306020811204e+36\n",
      "Iteration 3, inertia 5.55013947731925e+35\n",
      "Iteration 4, inertia 4.6897601791411425e+35\n",
      "Iteration 5, inertia 3.856167907774353e+35\n",
      "Iteration 6, inertia 3.686612999050427e+35\n",
      "Iteration 7, inertia 3.2261253595513504e+35\n",
      "Iteration 8, inertia 1.206696804582246e+35\n",
      "Iteration 9, inertia 4.902831953831761e+34\n",
      "Iteration 10, inertia 2.487211731496574e+34\n",
      "Iteration 11, inertia 1.9647179854501834e+34\n",
      "Iteration 12, inertia 1.789500026676851e+34\n",
      "Converged at iteration 12: strict convergence.\n",
      "Initialization complete\n",
      "Iteration 0, inertia 2.74348241300235e+36\n",
      "Iteration 1, inertia 2.7187110463794207e+36\n",
      "Iteration 2, inertia 1.3149946054558881e+36\n",
      "Iteration 3, inertia 8.05866342824041e+35\n",
      "Iteration 4, inertia 4.689760208405033e+35\n",
      "Iteration 5, inertia 3.856167907774093e+35\n",
      "Iteration 6, inertia 3.686612999050166e+35\n",
      "Iteration 7, inertia 3.2261252425252728e+35\n",
      "Iteration 8, inertia 1.1869862147497005e+35\n",
      "Iteration 9, inertia 4.902831953831761e+34\n",
      "Iteration 10, inertia 2.487211731496574e+34\n",
      "Iteration 11, inertia 1.9647179854501834e+34\n",
      "Iteration 12, inertia 1.789500026676851e+34\n",
      "Converged at iteration 12: strict convergence.\n",
      "Initialization complete\n",
      "Iteration 0, inertia 2.743482413002361e+36\n",
      "Iteration 1, inertia 2.664937515721459e+36\n",
      "Iteration 2, inertia 2.549555950321824e+35\n",
      "Iteration 3, inertia 1.8749764459196463e+35\n",
      "Iteration 4, inertia 1.2848393771116791e+35\n",
      "Iteration 5, inertia 4.968578113164767e+34\n",
      "Iteration 6, inertia 2.487211731496574e+34\n",
      "Iteration 7, inertia 1.9647179854501834e+34\n",
      "Iteration 8, inertia 1.789500026676851e+34\n",
      "Converged at iteration 8: strict convergence.\n",
      "Initialization complete\n",
      "Iteration 0, inertia 2.743482413002346e+36\n",
      "Iteration 1, inertia 3.7700190776261395e+34\n",
      "Iteration 2, inertia 2.6744127688158973e+34\n",
      "Iteration 3, inertia 2.487211731496574e+34\n",
      "Iteration 4, inertia 1.9647179854501834e+34\n",
      "Iteration 5, inertia 1.789500026676851e+34\n",
      "Converged at iteration 5: strict convergence.\n",
      "Initialization complete\n",
      "Iteration 0, inertia 2.7434824130023605e+36\n",
      "Iteration 1, inertia 2.947515013404648e+35\n",
      "Iteration 2, inertia 2.2914313083984096e+35\n",
      "Iteration 3, inertia 1.795353605775804e+35\n",
      "Iteration 4, inertia 1.2848392600898324e+35\n",
      "Iteration 5, inertia 4.968578113164767e+34\n",
      "Iteration 6, inertia 2.487211731496574e+34\n",
      "Iteration 7, inertia 1.9647179854501834e+34\n",
      "Iteration 8, inertia 1.789500026676851e+34\n",
      "Converged at iteration 8: strict convergence.\n",
      "Initialization complete\n",
      "Iteration 0, inertia 2.743482413002305e+36\n",
      "Iteration 1, inertia 2.2761757078549112e+35\n",
      "Iteration 2, inertia 3.069356524411197e+34\n",
      "Iteration 3, inertia 2.8715183745024356e+34\n",
      "Iteration 4, inertia 2.487211731496574e+34\n",
      "Iteration 5, inertia 1.9647179854501834e+34\n",
      "Iteration 6, inertia 1.789500026676851e+34\n",
      "Converged at iteration 6: strict convergence.\n"
     ]
    }
   ],
   "source": [
    "from sklearn.cluster import KMeans\n",
    "import numpy as np\n",
    "\n",
    "kmeans = KMeans(n_clusters=5,\n",
    "                n_init=10,\n",
    "                init='random',\n",
    "                tol=1e-4, \n",
    "                random_state=170,\n",
    "                verbose=True)\n",
    "\n",
    "y_pred = kmeans.fit_predict(feat_vectors)"
   ]
  },
  {
   "cell_type": "markdown",
   "metadata": {},
   "source": [
    "Ahora, determinemos la homogeneidad, la integridad de los clusters y el Coeficiente de Silhouette."
   ]
  },
  {
   "cell_type": "code",
   "execution_count": 14,
   "metadata": {},
   "outputs": [],
   "source": [
    "from sklearn import metrics\n",
    "\n",
    "# Calcular la homogeneidad y la integridad de los clusters.\n",
    "homogeneity = metrics.homogeneity_score(clss, y_pred)\n",
    "completeness = metrics.completeness_score(clss, y_pred) \n",
    "\n",
    "# Calcular el coeficiente de coeficiente de Silhouette para cada muestra.\n",
    "s = metrics.silhouette_samples(feat_vectors, y_pred)\n",
    "\n",
    "# Calcule el coeficiente de Silhouette medio de todos los puntos de datos.\n",
    "s_mean = metrics.silhouette_score(feat_vectors, y_pred)\n",
    "\n",
    "print(homogeneity)\n",
    "print(completeness)\n",
    "print(s)\n",
    "print(s_mean)"
   ]
  },
  {
   "cell_type": "markdown",
   "metadata": {},
   "source": [
    "## DBSCAN"
   ]
  },
  {
   "cell_type": "markdown",
   "metadata": {},
   "source": [
    "Aplicamos ahora el algoritmo DBSCAN como otro modelo alternativo."
   ]
  },
  {
   "cell_type": "code",
   "execution_count": 15,
   "metadata": {},
   "outputs": [],
   "source": [
    "from sklearn.cluster import DBSCAN"
   ]
  },
  {
   "cell_type": "markdown",
   "metadata": {},
   "source": [
    "Usamos `SatandarScaler` para estandarizar características a media cero y varianza unitaria. Luego aplicamos el algoritmo a los datos."
   ]
  },
  {
   "cell_type": "code",
   "execution_count": 26,
   "metadata": {},
   "outputs": [],
   "source": [
    "from sklearn.preprocessing import StandardScaler\n",
    "\n",
    "X = StandardScaler().fit_transform(feat_vectors)\n",
    "\n",
    "dbscan = DBSCAN(eps=0.3, min_samples=30).fit_predict(X)"
   ]
  },
  {
   "cell_type": "markdown",
   "metadata": {},
   "source": [
    "Y ahora calculamos e imprimimos las evaluaciones de las métricas."
   ]
  },
  {
   "cell_type": "code",
   "execution_count": 27,
   "metadata": {},
   "outputs": [
    {
     "name": "stdout",
     "output_type": "stream",
     "text": [
      "Number of clusters: 0\n",
      "Homogeneity: 3.350995561647498e-16\n",
      "Completeness: 1.0\n"
     ]
    }
   ],
   "source": [
    "print('Number of clusters: {}'.format(len(set(dbscan[np.where(dbscan != -1)]))))\n",
    "print('Homogeneity: {}'.format(metrics.homogeneity_score(clss, dbscan)))\n",
    "print('Completeness: {}'.format(metrics.completeness_score(clss, dbscan)))\n",
    "# print('Mean Silhouette score: {}'.format(metrics.silhouette_score(X, dbscan)))\n"
   ]
  }
 ],
 "metadata": {
  "kernelspec": {
   "display_name": "Python 3 (ipykernel)",
   "language": "python",
   "name": "python3"
  },
  "language_info": {
   "codemirror_mode": {
    "name": "ipython",
    "version": 3
   },
   "file_extension": ".py",
   "mimetype": "text/x-python",
   "name": "python",
   "nbconvert_exporter": "python",
   "pygments_lexer": "ipython3",
   "version": "3.9.1"
  }
 },
 "nbformat": 4,
 "nbformat_minor": 2
}
