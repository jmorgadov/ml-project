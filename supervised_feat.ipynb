{
 "cells": [
  {
   "cell_type": "markdown",
   "metadata": {},
   "source": [
    "# Classifiers for feature vectors"
   ]
  },
  {
   "cell_type": "markdown",
   "metadata": {},
   "source": [
    "As seen in the literature, the models used for trajectory classification are SVM, KNN, DBSCAN and KMEANS. In this notebook we are going to test the effectiveness of these models."
   ]
  },
  {
   "cell_type": "markdown",
   "metadata": {},
   "source": [
    "Firstly, we are going to load the vectors where the trajectories are described by their characteristics."
   ]
  },
  {
   "cell_type": "code",
   "execution_count": 1,
   "metadata": {},
   "outputs": [
    {
     "name": "stdout",
     "output_type": "stream",
     "text": [
      "100.00%\r"
     ]
    }
   ],
   "source": [
    "import feature_vec as fv\n",
    "\n",
    "metadata = fv.get_selected_data()\n",
    "feat_vectors, clss_mask, clss = fv.get_feat_vectors(metadata)"
   ]
  },
  {
   "cell_type": "markdown",
   "metadata": {},
   "source": [
    "Now, we split the data into 70% for model training and the other 30% for testing."
   ]
  },
  {
   "cell_type": "code",
   "execution_count": 2,
   "metadata": {},
   "outputs": [],
   "source": [
    "from sklearn.model_selection import train_test_split\n",
    "\n",
    "X_train, X_test, y_train, y_test = train_test_split(feat_vectors, clss, stratify=clss, \n",
    "                                                  random_state= 0, test_size=0.30)\n",
    "\n",
    "X_val, X_test, y_val, y_test = train_test_split(X_test, y_test, stratify=y_test, \n",
    "                                                  random_state= 0, test_size=0.15)"
   ]
  },
  {
   "cell_type": "markdown",
   "metadata": {},
   "source": [
    "## Decision Tree Classifier"
   ]
  },
  {
   "cell_type": "code",
   "execution_count": 3,
   "metadata": {},
   "outputs": [
    {
     "data": {
      "text/plain": [
       "0.8378109452736319"
      ]
     },
     "execution_count": 3,
     "metadata": {},
     "output_type": "execute_result"
    }
   ],
   "source": [
    "from sklearn.tree import DecisionTreeClassifier\n",
    "\n",
    "dtc = DecisionTreeClassifier(criterion='entropy')\n",
    "dtc.fit(X_train, y_train)\n",
    "dtc.score(X_val, y_val)\n",
    "\n",
    "# 0.81"
   ]
  },
  {
   "cell_type": "markdown",
   "metadata": {},
   "source": [
    "## Random Forest Classifier"
   ]
  },
  {
   "cell_type": "code",
   "execution_count": 55,
   "metadata": {},
   "outputs": [
    {
     "data": {
      "text/plain": [
       "array([4.32315254e-02, 1.09496755e-01, 3.80367493e-02, 3.67029815e-03,\n",
       "       2.68469618e-02, 6.46146064e-02, 4.64163751e-06, 2.70882605e-02,\n",
       "       1.18737432e-01, 6.42636589e-02, 8.40335715e-02, 1.68211507e-03,\n",
       "       4.77180709e-03, 1.21925244e-02, 1.06031490e-02, 9.83357264e-03,\n",
       "       0.00000000e+00, 6.53226430e-03, 8.79268238e-03, 1.01901558e-03,\n",
       "       4.87328334e-03, 1.12855711e-02, 1.20712225e-02, 1.18387340e-02,\n",
       "       2.44605792e-05, 7.22697269e-03, 1.44800413e-02, 8.68416143e-03,\n",
       "       6.51619583e-03, 1.51198900e-02, 2.42488009e-03, 1.02698681e-02,\n",
       "       1.21514845e-02, 8.10018909e-03, 1.36575258e-02, 5.81634638e-03,\n",
       "       5.12107005e-03, 8.52070208e-03, 1.29449704e-02, 1.45540400e-02,\n",
       "       1.23779043e-02, 6.48456420e-03, 5.50124069e-02, 6.11912752e-03,\n",
       "       5.59064209e-03, 9.62740605e-03, 1.00533193e-02, 1.22760803e-02,\n",
       "       8.95032224e-03, 6.67525664e-03, 4.56997698e-02])"
      ]
     },
     "execution_count": 55,
     "metadata": {},
     "output_type": "execute_result"
    }
   ],
   "source": [
    "from sklearn.ensemble import RandomForestClassifier, RandomForestRegressor\n",
    "\n",
    "rfc = RandomForestClassifier(criterion='entropy', max_features='log2', bootstrap=False, random_state=0)\n",
    "rfc.fit(X_train, y_train)\n",
    "rfc.score(X_val, y_val)\n",
    "\n",
    "rfc.feature_importances_\n",
    "# 0.88"
   ]
  },
  {
   "cell_type": "code",
   "execution_count": null,
   "metadata": {},
   "outputs": [],
   "source": [
    "from sklearn.pipeline import make_pipeline, Pipeline\n",
    "from sklearn.preprocessing import StandardScaler\n",
    "from sklearn.decomposition import PCA\n",
    "\n",
    "pipeline = Pipeline([('pca', PCA(n_components = 14)), \n",
    "                     ('Random_Forest', \n",
    "                      RandomForestClassifier(criterion='entropy', max_features='log2', bootstrap=False))])\n",
    "\n",
    "pipeline.fit(X_train, y_train)\n",
    "pipeline.score(X_val, y_val)"
   ]
  },
  {
   "cell_type": "markdown",
   "metadata": {},
   "source": [
    "### Looking for a good combination of hyperparameters."
   ]
  },
  {
   "cell_type": "markdown",
   "metadata": {},
   "source": [
    "Grid Search based on out-of-bag score"
   ]
  },
  {
   "cell_type": "code",
   "execution_count": null,
   "metadata": {},
   "outputs": [],
   "source": [
    "from sklearn.metrics import accuracy_score, roc_auc_score\n",
    "from sklearn.model_selection import GridSearchCV\n",
    "from sklearn.model_selection import ParameterGrid\n",
    "\n",
    "import pandas as pd\n",
    "\n",
    "param_grid = ParameterGrid(\n",
    "                {'n_estimators': [150],\n",
    "                 'max_features': [5, 7, 9, 15, 25, 'log2'],\n",
    "                 'max_depth'   : [None, 3, 10, 20, 30],\n",
    "                 'criterion'   : ['gini', 'entropy']\n",
    "                }\n",
    "            )\n",
    "\n",
    "results = {'params': [], 'oob_accuracy': []}\n",
    "\n",
    "for params in param_grid:\n",
    "    \n",
    "    model = RandomForestClassifier(\n",
    "                oob_score    = True,\n",
    "                n_jobs       = -1,\n",
    "                random_state = 0,\n",
    "                ** params\n",
    "             )\n",
    "    \n",
    "    model.fit(X_train, y_train)\n",
    "    \n",
    "    results['params'].append(params)\n",
    "    results['oob_accuracy'].append(modelo.oob_score_)\n",
    "    print(f\"Modelo: {params} \\u2713\")\n",
    "\n",
    "results = pd.DataFrame(results)\n",
    "results = pd.concat([results, results['params'].apply(pd.Series)], axis=1)\n",
    "results = results.sort_values('oob_accuracy', ascending=False)\n",
    "results = results.drop(columns = 'params')\n",
    "results.head(5)"
   ]
  },
  {
   "cell_type": "markdown",
   "metadata": {},
   "source": [
    "Grid Search based on cross validation"
   ]
  },
  {
   "cell_type": "code",
   "execution_count": 54,
   "metadata": {},
   "outputs": [
    {
     "data": {
      "text/html": [
       "<div>\n",
       "<style scoped>\n",
       "    .dataframe tbody tr th:only-of-type {\n",
       "        vertical-align: middle;\n",
       "    }\n",
       "\n",
       "    .dataframe tbody tr th {\n",
       "        vertical-align: top;\n",
       "    }\n",
       "\n",
       "    .dataframe thead th {\n",
       "        text-align: right;\n",
       "    }\n",
       "</style>\n",
       "<table border=\"1\" class=\"dataframe\">\n",
       "  <thead>\n",
       "    <tr style=\"text-align: right;\">\n",
       "      <th></th>\n",
       "      <th>param_criterion</th>\n",
       "      <th>param_max_depth</th>\n",
       "      <th>param_max_features</th>\n",
       "      <th>param_n_estimators</th>\n",
       "      <th>mean_test_score</th>\n",
       "      <th>std_test_score</th>\n",
       "      <th>mean_train_score</th>\n",
       "      <th>std_train_score</th>\n",
       "    </tr>\n",
       "  </thead>\n",
       "  <tbody>\n",
       "    <tr>\n",
       "      <th>55</th>\n",
       "      <td>entropy</td>\n",
       "      <td>30</td>\n",
       "      <td>7</td>\n",
       "      <td>150</td>\n",
       "      <td>0.889130</td>\n",
       "      <td>0.009949</td>\n",
       "      <td>1.0</td>\n",
       "      <td>0.0</td>\n",
       "    </tr>\n",
       "    <tr>\n",
       "      <th>49</th>\n",
       "      <td>entropy</td>\n",
       "      <td>20</td>\n",
       "      <td>7</td>\n",
       "      <td>150</td>\n",
       "      <td>0.889130</td>\n",
       "      <td>0.010166</td>\n",
       "      <td>1.0</td>\n",
       "      <td>0.0</td>\n",
       "    </tr>\n",
       "    <tr>\n",
       "      <th>31</th>\n",
       "      <td>entropy</td>\n",
       "      <td>None</td>\n",
       "      <td>7</td>\n",
       "      <td>150</td>\n",
       "      <td>0.889130</td>\n",
       "      <td>0.009949</td>\n",
       "      <td>1.0</td>\n",
       "      <td>0.0</td>\n",
       "    </tr>\n",
       "    <tr>\n",
       "      <th>19</th>\n",
       "      <td>gini</td>\n",
       "      <td>20</td>\n",
       "      <td>7</td>\n",
       "      <td>150</td>\n",
       "      <td>0.888889</td>\n",
       "      <td>0.012632</td>\n",
       "      <td>1.0</td>\n",
       "      <td>0.0</td>\n",
       "    </tr>\n",
       "  </tbody>\n",
       "</table>\n",
       "</div>"
      ],
      "text/plain": [
       "   param_criterion param_max_depth param_max_features param_n_estimators  \\\n",
       "55         entropy              30                  7                150   \n",
       "49         entropy              20                  7                150   \n",
       "31         entropy            None                  7                150   \n",
       "19            gini              20                  7                150   \n",
       "\n",
       "    mean_test_score  std_test_score  mean_train_score  std_train_score  \n",
       "55         0.889130        0.009949               1.0              0.0  \n",
       "49         0.889130        0.010166               1.0              0.0  \n",
       "31         0.889130        0.009949               1.0              0.0  \n",
       "19         0.888889        0.012632               1.0              0.0  "
      ]
     },
     "execution_count": 54,
     "metadata": {},
     "output_type": "execute_result"
    }
   ],
   "source": [
    "from sklearn.model_selection import RepeatedKFold\n",
    "import multiprocessing\n",
    "\n",
    "param_grid = {'n_estimators': [150],\n",
    "            'max_features': [5, 7, 9, 15, 25, 'log2'],\n",
    "            'max_depth'   : [None, 3, 10, 20, 30],\n",
    "            'criterion'   : ['gini', 'entropy']\n",
    "            }\n",
    "\n",
    "grid = GridSearchCV(\n",
    "        estimator  = RandomForestClassifier(random_state = 0),\n",
    "        param_grid = param_grid,\n",
    "        scoring    = 'accuracy',\n",
    "        n_jobs     = multiprocessing.cpu_count() - 1,\n",
    "        cv         = RepeatedKFold(n_splits=5, n_repeats=3, random_state=0), \n",
    "        refit      = True,\n",
    "        verbose    = 0,\n",
    "        return_train_score = True\n",
    "       )\n",
    "\n",
    "grid.fit(X = X_train, y = y_train)\n",
    "\n",
    "results = pd.DataFrame(grid.cv_results_)\n",
    "results.filter(regex = '(param*|mean_t|std_t)') \\\n",
    "    .drop(columns = 'params') \\\n",
    "    .sort_values('mean_test_score', ascending = False) \\\n",
    "    .head(4)"
   ]
  },
  {
   "cell_type": "markdown",
   "metadata": {},
   "source": [
    "## K-Nearest Neighbors"
   ]
  },
  {
   "cell_type": "code",
   "execution_count": 5,
   "metadata": {},
   "outputs": [],
   "source": [
    "from sklearn.neighbors import KNeighborsClassifier"
   ]
  },
  {
   "cell_type": "markdown",
   "metadata": {},
   "source": [
    "Whith number of neighbors by default for kneighbors queries."
   ]
  },
  {
   "cell_type": "code",
   "execution_count": 6,
   "metadata": {},
   "outputs": [
    {
     "data": {
      "text/plain": [
       "0.7054726368159204"
      ]
     },
     "execution_count": 6,
     "metadata": {},
     "output_type": "execute_result"
    }
   ],
   "source": [
    "knn = KNeighborsClassifier(weights='distance')\n",
    "knn.fit(X_train, y_train)\n",
    "knn.score(X_val, y_val)\n",
    "\n",
    "# 0.70"
   ]
  },
  {
   "cell_type": "markdown",
   "metadata": {},
   "source": [
    "The results with the weights parameter with value 'distance' are better."
   ]
  },
  {
   "cell_type": "markdown",
   "metadata": {},
   "source": [
    "Whith number of neighbors in 20."
   ]
  },
  {
   "cell_type": "code",
   "execution_count": 7,
   "metadata": {},
   "outputs": [
    {
     "data": {
      "text/plain": [
       "0.7223880597014926"
      ]
     },
     "execution_count": 7,
     "metadata": {},
     "output_type": "execute_result"
    }
   ],
   "source": [
    "knn = KNeighborsClassifier(weights='distance', n_neighbors=20)\n",
    "knn.fit(X_train, y_train)\n",
    "knn.score(X_val, y_val)\n",
    "\n",
    "# 0.71"
   ]
  },
  {
   "cell_type": "markdown",
   "metadata": {},
   "source": [
    "## Support Vector Machine"
   ]
  },
  {
   "cell_type": "code",
   "execution_count": 9,
   "metadata": {},
   "outputs": [],
   "source": [
    "from sklearn.svm import SVC"
   ]
  },
  {
   "cell_type": "markdown",
   "metadata": {},
   "source": [
    "Standardizing the data and using the rbf kernel."
   ]
  },
  {
   "cell_type": "code",
   "execution_count": 10,
   "metadata": {},
   "outputs": [
    {
     "data": {
      "text/plain": [
       "0.83681592039801"
      ]
     },
     "execution_count": 10,
     "metadata": {},
     "output_type": "execute_result"
    }
   ],
   "source": [
    "svm = make_pipeline(StandardScaler(), SVC(kernel = 'rbf', gamma='auto', probability=True))\n",
    "svm.fit(X_train, y_train)\n",
    "\n",
    "svm.score(X_val, y_val)\n",
    "\n",
    "# 0.85"
   ]
  },
  {
   "cell_type": "markdown",
   "metadata": {},
   "source": [
    "Let's evaluate the model"
   ]
  },
  {
   "cell_type": "code",
   "execution_count": 11,
   "metadata": {},
   "outputs": [
    {
     "name": "stdout",
     "output_type": "stream",
     "text": [
      "Accuracy: 0.8371\n",
      "AUC: 0.9582\n"
     ]
    }
   ],
   "source": [
    "acc_score = accuracy_score(y_test, y_pred=svm.predict(X_test))\n",
    "auc_score = roc_auc_score(y_test, svm.predict_proba(X_test)[:], multi_class='ovr')\n",
    "print(f\"Accuracy: {acc_score:0.4f}\")\n",
    "print(f\"AUC: {auc_score:0.4f}\")"
   ]
  },
  {
   "cell_type": "code",
   "execution_count": 12,
   "metadata": {},
   "outputs": [
    {
     "data": {
      "text/plain": [
       "0.7114427860696517"
      ]
     },
     "execution_count": 12,
     "metadata": {},
     "output_type": "execute_result"
    }
   ],
   "source": [
    "svm = make_pipeline(StandardScaler(), SVC(kernel='poly', degree=3, gamma='scale'))\n",
    "svm.fit(X_train, y_train)\n",
    "\n",
    "svm.score(X_val, y_val)\n",
    "\n",
    "#0.72"
   ]
  },
  {
   "cell_type": "code",
   "execution_count": 13,
   "metadata": {},
   "outputs": [
    {
     "data": {
      "text/plain": [
       "0.7522388059701492"
      ]
     },
     "execution_count": 13,
     "metadata": {},
     "output_type": "execute_result"
    }
   ],
   "source": [
    "svm = make_pipeline(StandardScaler(), SVC(kernel='sigmoid', gamma='auto'))\n",
    "svm.fit(X_train, y_train)\n",
    "\n",
    "svm.score(X_val, y_val)\n",
    "\n",
    "# 0.71"
   ]
  },
  {
   "cell_type": "markdown",
   "metadata": {},
   "source": [
    "## Neural Networks"
   ]
  },
  {
   "cell_type": "code",
   "execution_count": null,
   "metadata": {},
   "outputs": [],
   "source": [
    "import tensorflow as tf\n",
    "from tensorflow import keras\n",
    "import numpy as np\n",
    "\n",
    "model = keras.models.Sequential()\n",
    "\n",
    "model.add(keras.layers.Dense(100, activation = 'sigmoid'))\n",
    "model.add(keras.layers.Dense(300, activation = 'relu'))\n",
    "model.add(keras.layers.Dense(100, activation = 'relu'))\n",
    "model.add(keras.layers.Dense(5, activation= 'softmax'))\n",
    "\n",
    "model.compile(loss=\"sparse_categorical_crossentropy\",\n",
    "              optimizer=\"sgd\",\n",
    "              metrics=[\"accuracy\"])\n",
    "history = model.fit(np.array(X_train), np.array(y_train), epochs=30)"
   ]
  },
  {
   "cell_type": "code",
   "execution_count": null,
   "metadata": {},
   "outputs": [],
   "source": [
    "from sklearn.neural_network import MLPClassifier\n",
    "from sklearn.model_selection import RandomizedSearchCV\n",
    "from sklearn.model_selection import GridSearchCV\n",
    "from sklearn.model_selection import KFold\n",
    "import multiprocessing\n",
    "\n",
    "model1 = MLPClassifier(\n",
    "                hidden_layer_sizes=(5),\n",
    "                learning_rate_init=0.01,\n",
    "                solver = 'lbfgs',\n",
    "                max_iter = 1000,\n",
    "                random_state = 123\n",
    "            )\n",
    "\n",
    "model2 = MLPClassifier(\n",
    "                hidden_layer_sizes=(10),\n",
    "                learning_rate_init=0.01,\n",
    "                solver = 'lbfgs',\n",
    "                max_iter = 1000,\n",
    "                random_state = 123\n",
    "            )\n",
    "\n",
    "model3 = MLPClassifier(\n",
    "                hidden_layer_sizes=(20, 20),\n",
    "                learning_rate_init=0.01,\n",
    "                solver = 'lbfgs',\n",
    "                max_iter = 5000,\n",
    "                random_state = 123\n",
    "            )\n",
    "\n",
    "model4 = MLPClassifier(\n",
    "                hidden_layer_sizes=(50, 50, 50),\n",
    "                learning_rate_init=0.01,\n",
    "                solver = 'lbfgs',\n",
    "                max_iter = 5000,\n",
    "                random_state = 123\n",
    "            )\n",
    "\n",
    "model1.fit(X=X_train, y=y_train)\n",
    "model2.fit(X=X_train, y=y_train)\n",
    "model3.fit(X=X_train, y=y_train)\n",
    "model4.fit(X=X_train, y=y_train)"
   ]
  },
  {
   "cell_type": "code",
   "execution_count": null,
   "metadata": {},
   "outputs": [
    {
     "data": {
      "text/plain": [
       "0.2407960199004975"
      ]
     },
     "execution_count": 83,
     "metadata": {},
     "output_type": "execute_result"
    }
   ],
   "source": [
    "model1.score(X_val, y_val)\n",
    "model2.score(X_val, y_val)\n",
    "model3.score(X_val, y_val)\n",
    "model4.score(X_val, y_val)"
   ]
  }
 ],
 "metadata": {
  "interpreter": {
   "hash": "916dbcbb3f70747c44a77c7bcd40155683ae19c65e1c03b4aa3499c5328201f1"
  },
  "kernelspec": {
   "display_name": "Python 3.8.10 64-bit",
   "language": "python",
   "name": "python3"
  },
  "language_info": {
   "codemirror_mode": {
    "name": "ipython",
    "version": 3
   },
   "file_extension": ".py",
   "mimetype": "text/x-python",
   "name": "python",
   "nbconvert_exporter": "python",
   "pygments_lexer": "ipython3",
   "version": "3.8.10"
  },
  "orig_nbformat": 4
 },
 "nbformat": 4,
 "nbformat_minor": 2
}
